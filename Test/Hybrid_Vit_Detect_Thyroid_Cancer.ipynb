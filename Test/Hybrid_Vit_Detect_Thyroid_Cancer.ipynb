{
  "nbformat": 4,
  "nbformat_minor": 0,
  "metadata": {
    "colab": {
      "provenance": [],
      "gpuType": "T4"
    },
    "kernelspec": {
      "name": "python3",
      "display_name": "Python 3"
    },
    "language_info": {
      "name": "python"
    },
    "accelerator": "GPU"
  },
  "cells": [
    {
      "cell_type": "markdown",
      "source": [
        "# Bibliotecas"
      ],
      "metadata": {
        "id": "S7DoKhU2hEfp"
      }
    },
    {
      "cell_type": "code",
      "execution_count": null,
      "metadata": {
        "id": "QA0yZy6YKP4X",
        "colab": {
          "base_uri": "https://localhost:8080/"
        },
        "outputId": "660f25c7-67cd-4b16-9d7d-61625b76a365"
      },
      "outputs": [
        {
          "output_type": "stream",
          "name": "stdout",
          "text": [
            "Mounted at /content/drive\n"
          ]
        }
      ],
      "source": [
        "import os\n",
        "import torch\n",
        "import timm\n",
        "from collections import OrderedDict\n",
        "import torch\n",
        "import torch.nn as nn\n",
        "import torch.optim as optim\n",
        "from torchvision import datasets, transforms\n",
        "from torch.utils.data import DataLoader, ConcatDataset, SubsetRandomSampler\n",
        "import numpy as np\n",
        "from torch.utils.data.sampler import SubsetRandomSampler\n",
        "import matplotlib.pyplot as plt\n",
        "from sklearn.metrics import precision_score, recall_score, f1_score, confusion_matrix\n",
        "from torchvision.models import resnet50\n",
        "import torch.nn.functional as F\n",
        "import seaborn as sns\n",
        "from sklearn.svm import SVC\n",
        "from sklearn.metrics import classification_report, confusion_matrix, precision_score, recall_score, f1_score, accuracy_score\n",
        "from torchvision import models\n",
        "from sklearn.svm import SVC\n",
        "from sklearn.metrics import precision_score, recall_score, f1_score, confusion_matrix\n",
        "from sklearn.preprocessing import StandardScaler\n",
        "import numpy as np\n",
        "import torch\n",
        "from torch import nn\n",
        "from torch.utils.data import DataLoader\n",
        "from torchvision import transforms, datasets\n",
        "import os\n",
        "import timm\n",
        "import matplotlib.pyplot as plt\n",
        "import seaborn as sns\n",
        "\n",
        "\n",
        "from google.colab import drive\n",
        "drive.mount('/content/drive')\n"
      ]
    },
    {
      "cell_type": "markdown",
      "source": [
        "# Funções de treinamento do modelo"
      ],
      "metadata": {
        "id": "bbrsI9DDKbYN"
      }
    },
    {
      "cell_type": "code",
      "source": [
        "def train_feature_extractor(model, train_loader, val_loader, criterion, optimizer, num_epochs=20, device='cuda'):\n",
        "    model.to(device)\n",
        "    train_losses, val_losses = [], []\n",
        "\n",
        "    for epoch in range(num_epochs):\n",
        "        model.train()\n",
        "        running_loss = 0.0\n",
        "\n",
        "        for images, labels in train_loader:\n",
        "            images, labels = images.to(device), labels.to(device)\n",
        "            optimizer.zero_grad()\n",
        "            embeddings = model(images)\n",
        "\n",
        "            loss = criterion(embeddings, labels)\n",
        "            loss.backward()\n",
        "            optimizer.step()\n",
        "\n",
        "            running_loss += loss.item() * images.size(0)\n",
        "\n",
        "        epoch_loss = running_loss / len(train_loader.dataset)\n",
        "        train_losses.append(epoch_loss)\n",
        "\n",
        "        val_loss, _, _, _ = evaluate_feature_extractor(model, val_loader, criterion, device)\n",
        "        val_losses.append(val_loss)\n",
        "\n",
        "        print(f\"Epoch [{epoch+1}/{num_epochs}], Train Loss: {epoch_loss:.4f}, Val Loss: {val_loss:.4f}\")\n",
        "\n",
        "    plt.figure(figsize=(10, 5))\n",
        "    plt.plot(train_losses, label=\"Train Loss\")\n",
        "    plt.plot(val_losses, label=\"Validation Loss\")\n",
        "    plt.xlabel(\"Epochs\")\n",
        "    plt.ylabel(\"Loss\")\n",
        "    plt.legend()\n",
        "    plt.title(\"Training and Validation Loss Curves\")\n",
        "    plt.show()\n",
        "\n",
        "    return model\n"
      ],
      "metadata": {
        "id": "HV2nck1rKbDV"
      },
      "execution_count": null,
      "outputs": []
    },
    {
      "cell_type": "code",
      "source": [
        "def evaluate_feature_extractor(model, loader, criterion, device='cuda'):\n",
        "    model.eval()\n",
        "    running_loss = 0.0\n",
        "\n",
        "    with torch.no_grad():\n",
        "        for images, labels in loader:\n",
        "            images, labels = images.to(device), labels.to(device)\n",
        "\n",
        "            embeddings = model(images)\n",
        "\n",
        "            loss = criterion(embeddings, labels)\n",
        "            running_loss += loss.item() * images.size(0)\n",
        "\n",
        "    avg_loss = running_loss / len(loader.dataset)\n",
        "    return avg_loss, None, None, None  #\n"
      ],
      "metadata": {
        "id": "OtdSIVvXKowA"
      },
      "execution_count": null,
      "outputs": []
    },
    {
      "cell_type": "code",
      "source": [
        "def extrair_features(model, dataloader, device='cuda'):\n",
        "    model.eval()\n",
        "    model.to(device)\n",
        "    features = []\n",
        "    labels = []\n",
        "\n",
        "    with torch.no_grad():\n",
        "        for images, targets in dataloader:\n",
        "            images = images.to(device)\n",
        "            targets = targets.to(device)\n",
        "\n",
        "            embeddings = model(images)\n",
        "            features.append(embeddings.cpu().numpy())\n",
        "            labels.append(targets.cpu().numpy())\n",
        "\n",
        "    features = np.concatenate(features, axis=0)\n",
        "    labels = np.concatenate(labels, axis=0)\n",
        "\n",
        "    return features, labels\n"
      ],
      "metadata": {
        "id": "UTSvit21KqZO"
      },
      "execution_count": null,
      "outputs": []
    },
    {
      "cell_type": "markdown",
      "source": [
        "# ViT Hibrido"
      ],
      "metadata": {
        "id": "vw55Ek3uKodv"
      }
    },
    {
      "cell_type": "code",
      "source": [
        "class PatchEmbed(nn.Module):\n",
        "    \"\"\"Split image into patches and then embed them.\n",
        "\n",
        "    Parameters\n",
        "    ----------\n",
        "    img_size : int\n",
        "        Size of the image (it is a square).\n",
        "\n",
        "    patch_size : int\n",
        "        Size of the patch (it is a square).\n",
        "\n",
        "    in_chans : int\n",
        "        Number of input channels.\n",
        "\n",
        "    embed_dim : int\n",
        "        The emmbedding dimension.\n",
        "\n",
        "    Attributes\n",
        "    ----------\n",
        "    n_patches : int\n",
        "        Number of patches inside of our image.\n",
        "\n",
        "    proj : nn.Conv2d\n",
        "        Convolutional layer that does both the splitting into patches\n",
        "        and their embedding.\n",
        "    \"\"\"\n",
        "    def __init__(self, img_size, patch_size, in_chans=3, embed_dim=768):\n",
        "        super().__init__()\n",
        "        self.img_size = img_size\n",
        "        self.patch_size = patch_size\n",
        "\n",
        "        self.n_patches = (img_size[0] // patch_size) * (img_size[1] // patch_size)\n",
        "        self.proj = nn.Conv2d(in_chans, embed_dim, kernel_size=patch_size, stride=patch_size)\n",
        "\n",
        "\n",
        "    def forward(self, x):\n",
        "        \"\"\"Run forward pass.\n",
        "\n",
        "        Parameters\n",
        "        ----------\n",
        "        x : torch.Tensor\n",
        "            Shape `(n_samples, in_chans, img_size, img_size)`.\n",
        "\n",
        "        Returns\n",
        "        -------\n",
        "        torch.Tensor\n",
        "            Shape `(n_samples, n_patches, embed_dim)`.\n",
        "        \"\"\"\n",
        "        x = self.proj(x)  # (n_samples, embed_dim, n_patches ** 0.5, n_patches ** 0.5)\n",
        "        x = x.flatten(2)  # (n_samples, embed_dim, n_patches)\n",
        "        x = x.transpose(1, 2)  # (n_samples, n_patches, embed_dim)\n",
        "\n",
        "        return x\n",
        "\n",
        "\n",
        "class Attention(nn.Module):\n",
        "    \"\"\"Attention mechanism.\n",
        "\n",
        "    Parameters\n",
        "    ----------\n",
        "    dim : int\n",
        "        The input and out dimension of per token features.\n",
        "\n",
        "    n_heads : int\n",
        "        Number of attention heads.\n",
        "\n",
        "    qkv_bias : bool\n",
        "        If True then we include bias to the query, key and value projections.\n",
        "\n",
        "    attn_p : float\n",
        "        Dropout probability applied to the query, key and value tensors.\n",
        "\n",
        "    proj_p : float\n",
        "        Dropout probability applied to the output tensor.\n",
        "\n",
        "\n",
        "    Attributes\n",
        "    ----------\n",
        "    scale : float\n",
        "        Normalizing consant for the dot product.\n",
        "\n",
        "    qkv : nn.Linear\n",
        "        Linear projection for the query, key and value.\n",
        "\n",
        "    proj : nn.Linear\n",
        "        Linear mapping that takes in the concatenated output of all attention\n",
        "        heads and maps it into a new space.\n",
        "\n",
        "    attn_drop, proj_drop : nn.Dropout\n",
        "        Dropout layers.\n",
        "    \"\"\"\n",
        "    def __init__(self, dim, n_heads=12, qkv_bias=True, attn_p=0., proj_p=0.):\n",
        "        super().__init__()\n",
        "        self.n_heads = n_heads\n",
        "        self.dim = dim\n",
        "        self.head_dim = dim // n_heads\n",
        "        self.scale = self.head_dim ** -0.5\n",
        "\n",
        "        self.qkv = nn.Linear(dim, dim * 3, bias=qkv_bias)\n",
        "        self.attn_drop = nn.Dropout(attn_p)\n",
        "        self.proj = nn.Linear(dim, dim)\n",
        "        self.proj_drop = nn.Dropout(proj_p)\n",
        "\n",
        "    def forward(self, x):\n",
        "        \"\"\"Run forward pass.\n",
        "\n",
        "        Parameters\n",
        "        ----------\n",
        "        x : torch.Tensor\n",
        "            Shape `(n_samples, n_patches + 1, dim)`.\n",
        "\n",
        "        Returns\n",
        "        -------\n",
        "        torch.Tensor\n",
        "            Shape `(n_samples, n_patches + 1, dim)`.\n",
        "        \"\"\"\n",
        "        n_samples, n_tokens, dim = x.shape\n",
        "\n",
        "        if dim != self.dim:\n",
        "            raise ValueError\n",
        "\n",
        "        qkv = self.qkv(x)  # (n_samples, n_patches + 1, 3 * dim)\n",
        "        qkv = qkv.reshape(\n",
        "                n_samples, n_tokens, 3, self.n_heads, self.head_dim\n",
        "        )  # (n_smaples, n_patches + 1, 3, n_heads, head_dim)\n",
        "        qkv = qkv.permute(\n",
        "                2, 0, 3, 1, 4\n",
        "        )  # (3, n_samples, n_heads, n_patches + 1, head_dim)\n",
        "\n",
        "        q, k, v = qkv[0], qkv[1], qkv[2]\n",
        "        k_t = k.transpose(-2, -1)  # (n_samples, n_heads, head_dim, n_patches + 1)\n",
        "        dp = (\n",
        "           q @ k_t\n",
        "        ) * self.scale # (n_samples, n_heads, n_patches + 1, n_patches + 1)\n",
        "        attn = dp.softmax(dim=-1)  # (n_samples, n_heads, n_patches + 1, n_patches + 1)\n",
        "        attn = self.attn_drop(attn)\n",
        "\n",
        "        weighted_avg = attn @ v  # (n_samples, n_heads, n_patches +1, head_dim)\n",
        "        weighted_avg = weighted_avg.transpose(\n",
        "                1, 2\n",
        "        )  # (n_samples, n_patches + 1, n_heads, head_dim)\n",
        "        weighted_avg = weighted_avg.flatten(2)  # (n_samples, n_patches + 1, dim)\n",
        "\n",
        "        x = self.proj(weighted_avg)  # (n_samples, n_patches + 1, dim)\n",
        "        x = self.proj_drop(x)  # (n_samples, n_patches + 1, dim)\n",
        "\n",
        "        return x\n",
        "\n",
        "\n",
        "class MLP(nn.Module):\n",
        "    \"\"\"Multilayer perceptron.\n",
        "\n",
        "    Parameters\n",
        "    ----------\n",
        "    in_features : int\n",
        "        Number of input features.\n",
        "\n",
        "    hidden_features : int\n",
        "        Number of nodes in the hidden layer.\n",
        "\n",
        "    out_features : int\n",
        "        Number of output features.\n",
        "\n",
        "    p : float\n",
        "        Dropout probability.\n",
        "\n",
        "    Attributes\n",
        "    ----------\n",
        "    fc : nn.Linear\n",
        "        The First linear layer.\n",
        "\n",
        "    act : nn.GELU\n",
        "        GELU activation function.\n",
        "\n",
        "    fc2 : nn.Linear\n",
        "        The second linear layer.\n",
        "\n",
        "    drop : nn.Dropout\n",
        "        Dropout layer.\n",
        "    \"\"\"\n",
        "    def __init__(self, in_features, hidden_features, out_features, p=0.):\n",
        "        super().__init__()\n",
        "        self.fc1 = nn.Linear(in_features, hidden_features)\n",
        "        self.act = nn.GELU()\n",
        "        self.fc2 = nn.Linear(hidden_features, out_features)\n",
        "        self.drop = nn.Dropout(p)\n",
        "\n",
        "    def forward(self, x):\n",
        "        \"\"\"Run forward pass.\n",
        "\n",
        "        Parameters\n",
        "        ----------\n",
        "        x : torch.Tensor\n",
        "            Shape `(n_samples, n_patches + 1, in_features)`.\n",
        "\n",
        "        Returns\n",
        "        -------\n",
        "        torch.Tensor\n",
        "            Shape `(n_samples, n_patches +1, out_features)`\n",
        "        \"\"\"\n",
        "        x = self.fc1(\n",
        "                x\n",
        "        ) # (n_samples, n_patches + 1, hidden_features)\n",
        "        x = self.act(x)  # (n_samples, n_patches + 1, hidden_features)\n",
        "        x = self.drop(x)  # (n_samples, n_patches + 1, hidden_features)\n",
        "        x = self.fc2(x)  # (n_samples, n_patches + 1, out_features)\n",
        "        x = self.drop(x)  # (n_samples, n_patches + 1, out_features)\n",
        "\n",
        "        return x\n",
        "\n",
        "\n",
        "class Block(nn.Module):\n",
        "    \"\"\"Transformer block.\n",
        "\n",
        "    Parameters\n",
        "    ----------\n",
        "    dim : int\n",
        "        Embeddinig dimension.\n",
        "\n",
        "    n_heads : int\n",
        "        Number of attention heads.\n",
        "\n",
        "    mlp_ratio : float\n",
        "        Determines the hidden dimension size of the `MLP` module with respect\n",
        "        to `dim`.\n",
        "\n",
        "    qkv_bias : bool\n",
        "        If True then we include bias to the query, key and value projections.\n",
        "\n",
        "    p, attn_p : float\n",
        "        Dropout probability.\n",
        "\n",
        "    Attributes\n",
        "    ----------\n",
        "    norm1, norm2 : LayerNorm\n",
        "        Layer normalization.\n",
        "\n",
        "    attn : Attention\n",
        "        Attention module.\n",
        "\n",
        "    mlp : MLP\n",
        "        MLP module.\n",
        "    \"\"\"\n",
        "    def __init__(self, dim, n_heads, mlp_ratio=4.0, qkv_bias=True, p=0., attn_p=0.):\n",
        "        super().__init__()\n",
        "        self.norm1 = nn.LayerNorm(dim, eps=1e-6)\n",
        "        self.attn = Attention(\n",
        "                dim,\n",
        "                n_heads=n_heads,\n",
        "                qkv_bias=qkv_bias,\n",
        "                attn_p=attn_p,\n",
        "                proj_p=p\n",
        "        )\n",
        "        self.norm2 = nn.LayerNorm(dim, eps=1e-6)\n",
        "        hidden_features = int(dim * mlp_ratio)\n",
        "        self.mlp = MLP(\n",
        "                in_features=dim,\n",
        "                hidden_features=hidden_features,\n",
        "                out_features=dim,\n",
        "        )\n",
        "\n",
        "    def forward(self, x):\n",
        "        \"\"\"Run forward pass.\n",
        "\n",
        "        Parameters\n",
        "        ----------\n",
        "        x : torch.Tensor\n",
        "            Shape `(n_samples, n_patches + 1, dim)`.\n",
        "\n",
        "        Returns\n",
        "        -------\n",
        "        torch.Tensor\n",
        "            Shape `(n_samples, n_patches + 1, dim)`.\n",
        "        \"\"\"\n",
        "        x = x + self.attn(self.norm1(x))\n",
        "        x = x + self.mlp(self.norm2(x))\n",
        "\n",
        "        return x\n",
        "\n",
        "\n",
        "class BottleNeck(nn.Module):\n",
        "  expansion = 4\n",
        "\n",
        "  def __init__(self, in_channels, out_channels, funcao_ativacao ,stride=1):\n",
        "    super(BottleNeck, self).__init__()\n",
        "    self.conv1 = nn.Conv2d(in_channels, out_channels, kernel_size=1, stride=1, padding=0, bias=False)\n",
        "    self.bn1 = nn.BatchNorm2d(out_channels)\n",
        "    self.conv2 = nn.Conv2d(out_channels, out_channels, kernel_size=3, stride=stride, padding=1, bias=False)\n",
        "    self.bn2 = nn.BatchNorm2d(out_channels)\n",
        "    self.conv3 = nn.Conv2d(out_channels, out_channels * self.expansion, kernel_size=1, stride=1, padding=0, bias=False)\n",
        "    self.bn3 = nn.BatchNorm2d(out_channels * self.expansion)\n",
        "\n",
        "    if in_channels == out_channels * self.expansion:\n",
        "      self.identity = True\n",
        "    else:\n",
        "      self.identity = False\n",
        "      self.projection = nn.Sequential(\n",
        "          nn.Conv2d(in_channels, out_channels * self.expansion, kernel_size=1, stride=stride, padding=0, bias=False),\n",
        "          nn.BatchNorm2d(out_channels * self.expansion)\n",
        "      )\n",
        "\n",
        "    self.func_ativacao = funcao_ativacao\n",
        "\n",
        "  def forward(self, x):\n",
        "    identity = x\n",
        "    x = self.func_ativacao(self.bn1(self.conv1(x)))\n",
        "    x = self.func_ativacao(self.bn2(self.conv2(x)))\n",
        "    x = self.bn3(self.conv3(x))\n",
        "\n",
        "    if self.identity:\n",
        "      x += identity\n",
        "    else:\n",
        "      x += self.projection(identity)\n",
        "\n",
        "    x = self.func_ativacao(x)\n",
        "\n",
        "    return x\n",
        "\n",
        "\n",
        "class ResNetBackbone(nn.Module):\n",
        "    def __init__(self, Bottleneck, num_blocks, num_channels, funcao_ativacao):\n",
        "\n",
        "        super().__init__()\n",
        "        self.in_channels = 64\n",
        "        self.conv1 = nn.Conv2d(num_channels, 64, kernel_size=7, stride=2, padding=3, bias=False)\n",
        "        self.bn1 = nn.BatchNorm2d(64)\n",
        "        self.func_ativacao = funcao_ativacao\n",
        "        self.maxpool = nn.MaxPool2d(kernel_size=3, stride=2, padding=1)\n",
        "        self.block1 = self._make_layer(Bottleneck, 64, num_blocks[0], stride=1)\n",
        "        self.block2 = self._make_layer(Bottleneck, 128, num_blocks[1], stride=2)\n",
        "        self.block3 = self._make_layer(Bottleneck, 256, num_blocks[2], stride=2)\n",
        "        self.block4 = self._make_layer(Bottleneck, 512, num_blocks[3], stride=2)\n",
        "        self.avgpool = nn.AdaptiveAvgPool2d((1, 1))\n",
        "        self.flatten = nn.Identity()\n",
        "        self.dropout = nn.Dropout(0.5)\n",
        "\n",
        "    def _make_layer(self, Bottleneck, out_channels, num_blocks, stride):\n",
        "        layers = [Bottleneck(self.in_channels, out_channels, funcao_ativacao,stride)]\n",
        "        self.in_channels = out_channels * Bottleneck.expansion\n",
        "        for _ in range(1, num_blocks):\n",
        "            layers.append(Bottleneck(self.in_channels, out_channels, funcao_ativacao,stride=1))\n",
        "        return nn.Sequential(*layers)\n",
        "\n",
        "    def forward(self, x):\n",
        "        x = self.func_ativacao(self.bn1(self.conv1(x)))\n",
        "        x = self.maxpool(x)\n",
        "        x = self.block1(x)\n",
        "        x = self.block2(x)\n",
        "        x = self.block3(x)\n",
        "        x = self.block4(x)\n",
        "        x = self.dropout(x)\n",
        "        x = self.avgpool(x)\n",
        "\n",
        "        return x\n",
        "\n",
        "\n",
        "\n",
        "\n",
        "class HybridVisionTransformer(nn.Module):\n",
        "    def __init__(self, resnet_backbone, img_size=224, embed_dim=768, n_classes=2,\n",
        "                 depth=12, n_heads=12, mlp_ratio=4.0, qkv_bias=True, p=0.0, attn_p=0.0):\n",
        "        super().__init__()\n",
        "\n",
        "        self.resnet_backbone = resnet_backbone\n",
        "\n",
        "        self.patch_embed = PatchEmbed(img_size=img_size, patch_size=1, in_chans=512 * BottleNeck.expansion, embed_dim=embed_dim)\n",
        "\n",
        "        self.cls_token = nn.Parameter(torch.zeros(1, 1, embed_dim))\n",
        "        self.pos_embed = nn.Parameter(torch.zeros(1, 1 + self.patch_embed.n_patches, embed_dim))\n",
        "        self.pos_drop = nn.Dropout(p=p)\n",
        "\n",
        "        with torch.no_grad():\n",
        "            self.pos_embed.normal_(std=0.02)\n",
        "\n",
        "        self.blocks = nn.ModuleList(\n",
        "            [Block(dim=embed_dim, n_heads=n_heads, mlp_ratio=mlp_ratio, qkv_bias=qkv_bias, p=p, attn_p=attn_p)\n",
        "             for _ in range(depth)]\n",
        "        )\n",
        "\n",
        "        self.norm = nn.LayerNorm(embed_dim, eps=1e-6)\n",
        "        self.head = nn.Linear(embed_dim, 2)\n",
        "\n",
        "\n",
        "    def forward(self, x):\n",
        "        x = self.resnet_backbone(x)\n",
        "\n",
        "        x = self.patch_embed(x)\n",
        "\n",
        "        cls_token = self.cls_token.expand(x.shape[0], -1, -1)\n",
        "        x = torch.cat((cls_token, x), dim=1)\n",
        "        x = x + self.pos_embed[:, :x.size(1), :]\n",
        "        x = self.pos_drop(x)\n",
        "\n",
        "        for block in self.blocks:\n",
        "            x = block(x)\n",
        "\n",
        "        x = self.norm(x)\n",
        "        cls_token_final = x[:, 0]\n",
        "\n",
        "        return cls_token_final\n"
      ],
      "metadata": {
        "id": "yl6LSWWZK2JW"
      },
      "execution_count": null,
      "outputs": []
    },
    {
      "cell_type": "markdown",
      "source": [
        "# Funções para realizar o teste e treinamento"
      ],
      "metadata": {
        "id": "OQ3xg5AKK_Hr"
      }
    },
    {
      "cell_type": "markdown",
      "source": [
        "Carrega o dataset"
      ],
      "metadata": {
        "id": "B9u90qqHMN2J"
      }
    },
    {
      "cell_type": "code",
      "source": [
        "def carregar_dataset(caminho_dataset):\n",
        "    transform = transforms.Compose([\n",
        "        transforms.Resize((224, 224)),\n",
        "\n",
        "        transforms.ToTensor(),          # Converte para tensor\n",
        "\n",
        "    ])\n",
        "\n",
        "    train_dataset = datasets.ImageFolder(root=os.path.join(caminho_dataset, 'train'), transform=transform)\n",
        "    test_dataset = datasets.ImageFolder(root=os.path.join(caminho_dataset, 'test'), transform=transform)\n",
        "    val_dataset = datasets.ImageFolder(root=os.path.join(caminho_dataset, 'val'), transform=transform)\n",
        "\n",
        "    train_loader = DataLoader(train_dataset, batch_size=32, shuffle=True, pin_memory=True)\n",
        "    val_loader = DataLoader(val_dataset, batch_size=8, shuffle=True, pin_memory=True)\n",
        "    test_loader = DataLoader(test_dataset, batch_size=32, shuffle=False, pin_memory=True)\n",
        "\n",
        "    print(\"Tamanho do conjunto de treino:\", len(train_dataset))\n",
        "    print(\"Tamanho do conjunto de teste:\", len(test_dataset))\n",
        "    print(\"Tamanho do conjunto validation\", len(val_dataset))\n",
        "\n",
        "    return train_loader, test_loader, val_loader"
      ],
      "metadata": {
        "id": "-cHnDToNLDDU"
      },
      "execution_count": null,
      "outputs": []
    },
    {
      "cell_type": "markdown",
      "source": [
        "Treinamento do SVM"
      ],
      "metadata": {
        "id": "CQGEmTKMMQxC"
      }
    },
    {
      "cell_type": "code",
      "source": [
        "def train_svm(model, train_loader, val_loader, device='cuda'):\n",
        "    train_features, train_labels = extrair_features(model, train_loader, device)\n",
        "    val_features, val_labels = extrair_features(model, val_loader, device)\n",
        "\n",
        "    scaler = StandardScaler()\n",
        "    train_features = scaler.fit_transform(train_features)\n",
        "    val_features = scaler.transform(val_features)\n",
        "\n",
        "    svm = SVC(kernel='linear', C=1, probability=True)\n",
        "    svm.fit(train_features, train_labels)\n",
        "\n",
        "    val_preds = svm.predict(val_features)\n",
        "\n",
        "    precision = precision_score(val_labels, val_preds, average='weighted')\n",
        "    recall = recall_score(val_labels, val_preds, average='weighted')\n",
        "    f1 = f1_score(val_labels, val_preds, average='weighted')\n",
        "\n",
        "    print(f\"Validation Precision: {precision:.2f}, Recall: {recall:.2f}, F1-Score: {f1:.2f}\")\n",
        "\n",
        "    return svm, scaler"
      ],
      "metadata": {
        "id": "FKvlq30VL6fH"
      },
      "execution_count": null,
      "outputs": []
    },
    {
      "cell_type": "markdown",
      "source": [
        "Avaliação do SVM"
      ],
      "metadata": {
        "id": "MVHQZyXdMS1e"
      }
    },
    {
      "cell_type": "code",
      "source": [
        "def evaluate_svm(svm, scaler, model, test_loader, device='cuda'):\n",
        "    test_features, test_labels = extrair_features(model, test_loader, device)\n",
        "\n",
        "    test_features = scaler.transform(test_features)\n",
        "\n",
        "    test_preds = svm.predict(test_features)\n",
        "\n",
        "    precision = precision_score(test_labels, test_preds, average='weighted')\n",
        "    recall = recall_score(test_labels, test_preds, average='weighted')\n",
        "    f1 = f1_score(test_labels, test_preds, average='weighted')\n",
        "\n",
        "    print(f\"Test Precision: {precision:.2f}, Recall: {recall:.2f}, F1-Score: {f1:.2f}\")\n",
        "\n",
        "    print(classification_report(test_labels, test_preds))\n",
        "\n",
        "    conf_matrix = confusion_matrix(test_labels, test_preds)\n",
        "    plt.figure(figsize=(8, 6))\n",
        "    sns.heatmap(conf_matrix, annot=True, fmt='d', cmap='Blues', xticklabels=['Classe 0', 'Classe 1'], yticklabels=['Classe 0', 'Classe 1'])\n",
        "    plt.xlabel('Predicted Labels')\n",
        "    plt.ylabel('True Labels')\n",
        "    plt.title('Matriz de Confusão')\n",
        "    plt.show()"
      ],
      "metadata": {
        "id": "FoH0dzeLL-Ro"
      },
      "execution_count": null,
      "outputs": []
    },
    {
      "cell_type": "markdown",
      "source": [
        "Transfere os pesos Pré-treinados para o meu modelo"
      ],
      "metadata": {
        "id": "JhArDqSeMVQK"
      }
    },
    {
      "cell_type": "code",
      "source": [
        "def transfer_vit_weights(vit_pretrained, model):\n",
        "      for idx, block in enumerate(model.blocks):\n",
        "          block.attn.qkv.weight.data = vit_pretrained.blocks[idx].attn.qkv.weight.data\n",
        "          block.attn.qkv.bias.data = vit_pretrained.blocks[idx].attn.qkv.bias.data\n",
        "          block.attn.proj.weight.data = vit_pretrained.blocks[idx].attn.proj.weight.data\n",
        "          block.attn.proj.bias.data = vit_pretrained.blocks[idx].attn.proj.bias.data\n",
        "          block.mlp.fc1.weight.data = vit_pretrained.blocks[idx].mlp.fc1.weight.data\n",
        "          block.mlp.fc1.bias.data = vit_pretrained.blocks[idx].mlp.fc1.bias.data\n",
        "          block.mlp.fc2.weight.data = vit_pretrained.blocks[idx].mlp.fc2.weight.data\n",
        "          block.mlp.fc2.bias.data = vit_pretrained.blocks[idx].mlp.fc2.bias.data\n",
        "\n",
        "def carregar_pesos_resnet_pretreinada(resnet_backbone, resnet_pretrained):\n",
        "    \"\"\"\n",
        "    Transfere os pesos da ResNet pré-treinada para o ResNetBackbone personalizado.\n",
        "    \"\"\"\n",
        "    pretrained_layers = list(resnet_pretrained.children())  # Obtem os módulos da ResNet pré-treinada\n",
        "    custom_layers = [\n",
        "        resnet_backbone.conv1,\n",
        "        resnet_backbone.bn1,\n",
        "        resnet_backbone.block1,\n",
        "        resnet_backbone.block2,\n",
        "        resnet_backbone.block3,\n",
        "        resnet_backbone.block4\n",
        "    ]\n",
        "\n",
        "    resnet_backbone.conv1.weight.data = pretrained_layers[0].weight.data\n",
        "    resnet_backbone.bn1.weight.data = pretrained_layers[1].weight.data\n",
        "    resnet_backbone.bn1.bias.data = pretrained_layers[1].bias.data\n",
        "\n",
        "    pretrained_blocks = pretrained_layers[4:8]\n",
        "    for custom_block, pretrained_block in zip(custom_layers[2:], pretrained_blocks):\n",
        "        for custom_bottleneck, pretrained_bottleneck in zip(custom_block, pretrained_block):\n",
        "            custom_bottleneck.conv1.weight.data = pretrained_bottleneck.conv1.weight.data\n",
        "            custom_bottleneck.conv2.weight.data = pretrained_bottleneck.conv2.weight.data\n",
        "            custom_bottleneck.conv3.weight.data = pretrained_bottleneck.conv3.weight.data\n",
        "\n",
        "            custom_bottleneck.bn1.weight.data = pretrained_bottleneck.bn1.weight.data\n",
        "            custom_bottleneck.bn1.bias.data = pretrained_bottleneck.bn1.bias.data\n",
        "            custom_bottleneck.bn2.weight.data = pretrained_bottleneck.bn2.weight.data\n",
        "            custom_bottleneck.bn2.bias.data = pretrained_bottleneck.bn2.bias.data\n",
        "            custom_bottleneck.bn3.weight.data = pretrained_bottleneck.bn3.weight.data\n",
        "            custom_bottleneck.bn3.bias.data = pretrained_bottleneck.bn3.bias.data\n"
      ],
      "metadata": {
        "id": "E9TUkqA-MBV4"
      },
      "execution_count": null,
      "outputs": []
    },
    {
      "cell_type": "markdown",
      "source": [
        "Função que executa as demais funções. Aqui é instanciado o modelo e chama as funções de treinamento do modelo e do SVM"
      ],
      "metadata": {
        "id": "rRhUlArGMZQI"
      }
    },
    {
      "cell_type": "code",
      "source": [
        "def testar_modelo_svm(caminho, funcao_ativacao, nome_funcao):\n",
        "    resnet_pretrained = models.resnet50(pretrained=True)\n",
        "\n",
        "    resnet_backbone = ResNetBackbone(BottleNeck, [3, 4, 6, 3], num_channels=3, funcao_ativacao=funcao_ativacao)\n",
        "\n",
        "    carregar_pesos_resnet_pretreinada(resnet_backbone, resnet_pretrained)\n",
        "\n",
        "    model = HybridVisionTransformer(\n",
        "        resnet_backbone=resnet_backbone,\n",
        "        img_size=(224, 224),\n",
        "        n_classes=2,\n",
        "        embed_dim=768\n",
        "    )\n",
        "\n",
        "    vit_pretrained = timm.create_model('vit_base_patch16_224', pretrained=True)\n",
        "    transfer_vit_weights(vit_pretrained, model)\n",
        "    train_loader, test_loader, val_loader = carregar_dataset(caminho)\n",
        "\n",
        "    device = torch.device('cuda' if torch.cuda.is_available() else 'cpu')\n",
        "    model.to(device)\n",
        "\n",
        "    criterion = torch.nn.CrossEntropyLoss()\n",
        "\n",
        "    if nome_funcao == 'MexicanHat2':\n",
        "        optimizer = torch.optim.SGD(model.parameters(), lr=0.001, momentum=0.9)\n",
        "    else:\n",
        "    optimizer = torch.optim.SGD(model.parameters(), lr=0.0001, momentum=0.9)\n",
        "\n",
        "    train_feature_extractor(model, train_loader, val_loader, criterion, optimizer, num_epochs=20, device='cuda')\n",
        "\n",
        "    svm, scaler = train_svm(model, train_loader, val_loader, device='cuda')\n",
        "\n",
        "    evaluate_svm(svm, scaler, model, test_loader, device='cuda')"
      ],
      "metadata": {
        "id": "PB29thXmMJO2"
      },
      "execution_count": null,
      "outputs": []
    },
    {
      "cell_type": "markdown",
      "source": [
        "# Definição das funções de ativação e chamada da função de treinamento e teste"
      ],
      "metadata": {
        "id": "_QtXF0BGLwBl"
      }
    },
    {
      "cell_type": "markdown",
      "source": [
        "## ReLU"
      ],
      "metadata": {
        "id": "lfarie4TnN_I"
      }
    },
    {
      "cell_type": "markdown",
      "source": [
        "![image.png](data:image/png;base64,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)"
      ],
      "metadata": {
        "id": "FXHMgPRjq0jm"
      }
    },
    {
      "cell_type": "code",
      "source": [
        "funcao_ativacao = nn.ReLU()\n",
        "testar_modelo_svm('/content/drive/MyDrive/Colab Notebooks/DatasetAumentadoArtigo1_3000_cut', funcao_ativacao, 'ReLU')"
      ],
      "metadata": {
        "id": "-251CVD3nceX"
      },
      "execution_count": null,
      "outputs": []
    },
    {
      "cell_type": "markdown",
      "source": [
        "## PReLU"
      ],
      "metadata": {
        "id": "TpVHxCS7ndNk"
      }
    },
    {
      "cell_type": "markdown",
      "source": [
        "![image.png](data:image/png;base64,iVBORw0KGgoAAAANSUhEUgAAAU0AAAD5CAYAAACj3GcTAAAAAXNSR0IArs4c6QAAAARnQU1BAACxjwv8YQUAAAAJcEhZcwAADsMAAA7DAcdvqGQAADMPSURBVHhe7Z0FXFRZG8YfW1EUxVq7u9ZEFxVbQUR3bcEWu3ttFxW7u1sUBVTE1hVXXLsARbC7UBQVEOfjPdxxWZ314yJxD7x/fufH3HPuDC8zd557+kmmiwAMwzBMtEiu/GYYhmGiAYsmwzCMClg0GYZhVMCiyTAMowIWTYZhGBWwaDIMw6iARZNhGEYFLJoMwzAqYNFkGIZRAa8IYjRFSEgIPn/+LB4nS5YMKVOmFOnTp08ICwsT+USKFCmQKlUqcc73oMubXpPOpefoofzQ0FCkSZNGyfnn3NSpUyN5cq5PMIbhK4PRDO/evUPTpk3RpEkTtG3bFlZWVmjfvj0ePHiAxYsXo3z58iK/efPmMDMzg7u7uxC67/HmzRvkzJkThw4dUnIiCQgIQN26dZWjSF6+fIlSpUrhyJEjSg7DfAuLJqM5pk2bhu3bt8PNzQ2vX7/G1q1bRb6NjY3Id3V1RZs2bbBgwQJ8/PhRlDFMfMGiyWgOah5TszlDhgwoXrw4Hj16JPKpeU356dKlQ40aNRAYGIjw8HCRnJ2d0bBhQ9SsWRO1a9fGtm3bxHMYJrZh0WQ0BzXTqalMzeTdu3cLISSov5GE0sfHB7///juKFi0qRPTq1auYNGkSZsyYARcXF/F79uzZ4nyGiW1YNBnN0bNnTzRo0ABjxoxBt27d0LhxY5FPzXTqh6R+Tz8/P4wcOVIM8Fy5cgWmpqa4desWTpw4IforaeDo77//Fs9jmNiERZPRHDToQwM3lMaPHw8jIyORT/2YlHfgwAHRbKeaKI20BwUF4f379/D19RXp9u3baNmypRgA+i9o1F0/Sq+Hmvk0sERCzDD/BYsmozlMTExEzdHY2FjJiYT6MrNmzSqa5WvWrMHmzZuFYGbPnh0ZM2bEiBEjRO2U0ujRo1GsWDHlmd9CzXoSWuoK0PP06VMxDSlv3rxKDsN8C4smIyUFCxYUiQZ8qlevLvo6hw8fjsOHD2Pv3r2YMGGCcmYkZ8+exb59+74kqmVWqlRJTGnas2cPPDw8MGXKFNH8p9dlmP+CRZPRFGnTpjU4sZyazDSqrodG0lu1aiWEjmqfJJYknLa2tkI89ZPe6Tc176dPn47WrVt/SdeuXRPdAFQb7du3L7p27Yr8+fNj2bJlPLGd+S68IohhGEYFfEtlGIZRAYsmwzCMClg0GYZhVJCgfZo0L45GMf/fTjUMwzAJDe22RSSoaO7fv18sd+PRSoZhtApJJE1N69y5szhOUNGkOXY0laRRo0ZKTvTw9vYWE5yjTkHRMvQW01I/2nZMltUmFPOFCxfEdmz6O6wMUOuFllLSph2y3IxpyaeXlxd++eUXqWKmua+0RZ8sLUWKma7pKlWqqIr55s2bYm4vLZoQkGgmFFu3btW5u7srR9EnQoB0ISEhypH2+fz5sy7iw9KFhoYqOdqHYj5z5oxUMRNhYWG6Q4cO6SLEU8nRPhTzsWPHpIvZ09NTXCeyQDFH3JxUx3z9+nXdlClTlCOdjtvFDMMwKmDRZBiGUQGLJsMwjApUiebp06fFzjI0gENbcBmCOoc3btyIY8eO8SawDMMkOlSJ5p07d5ApUyaxfRZtcHD//n2lJBIaIaYdtWnThRUrVojdYxiGYRITqkSTnABp12zaDJb2PLx+/bpSEsm4cePQoUMHsfvMkCFD4OTkpJQwDMMkLGHhYXgV9gq6iJ8fQZVovn37VlgRWFtbo0SJEmJeWVSo+U47ahO0Xdfjx4/F46iQdzVt/kqJmu80r47mT6lJtIooJs9LqESxyhYzJRljpnh1Op3BMq0mfcyyvdcyvc8hYSFw8HTAFN8puBd4z+A5/5Xoc4mKqsnt9CV68uSJmOxJzfBFixbh559/VkojhZK8qKtVqyaa8jSL/tSpU0ppJEuXLsX8+fPFY9p1u1+/fuJ8NZDY0sR2mZZfktUs7RbOMcc9dEPWW2TIgmwxk2zQ9UG76cuA2303rLi/AnWz1kX/Iv2ROnn0F8ZQNyQ5opLmETFeEUTWAtR3OXnyZCUHwuSfNoGlJjrNvHdwcMCuXbuU0khItfXKvWPHDtFHamlpKY6jC20gS5vHyrQi6PLlyyhdurRUK4LOnz8vVgTJ5JlDNQNaEWRhYSHV6hqqXJibm0sVMxnXkZWy1m+qTt5OGLh/IJoWbYoOWTvAorqFqpjJxI90TC+aqj4hMuenLz/ZqlKi/k0a8CH7VIIElI49PT0xZ84cNG/eXORHhXbcJrGjRI/pIlGb6B82lK/lxDHHXyIM5Ws5yRizDNfHoVuHYOdqh6q5q2JOwzlInzK9wfO+l74WWFWimTlzZjEiTm5/NPWoatWqYj115cqVRTmt6aT1mXSnp35PcgRkGIZJCM4+PIt+Hv1QPXd1LLJchAypMyglP4Yq0bSzs8PYsWMxcOBAYUpFUJPCyspKPCYaNmwohJNG2GXrV2IYJnFw/cV11N9YH5nSZMK+DvtQwKSAUvLjqBJNhmEYreP/yh8dXToie/rsWNZ0GYzT/NsK+kdh0WQYJtEQ+CEQbZzb4PG7x9jbbi8q5YpsEccmLJoMwyQKngY/RdudbfEw6CFWN1uN4lmLI1nET2zDoskwjPSEfw7H4P2D4XXfCyusV6BewXpKSezDoskwjNQEhwXDfo899vjtwVKrpWhWvBlSJE+hlMY+LJoMw0iNo6cjNl3dhIm1J6Jlqbif5siiyTCMlITrwrH47GJMOzkNY2uOxdAaQ5EmZRqlNO5g0WQYRjo+6z5j9YXVGLR/EHpV7iUEM75g0WQYRjpO3juJwQcGo1HhRpjTaA6MUsXfQhoWTYZhpIFqmB43PdB0S1M0KNQAO1rtQOoU8btxD4smwzDS4PPMB73deyNvprxYYrUE6VLF/9Z0LJoMw0iB9zNvNHdqDtN0pjje6ThyGedSSuIXFk2GYTQPrSfv5NpJTGJfbbMa2dJnU0riHxZNhmE0zasPr9Bzb0/cD7oP59bOqJCzglKSMLBoMgyjWWjjDTsXO/g+98WGFhviZAMOtbBoMgyjST59/oRxR8fh8K3DmNVwlphepAVUiSZZXDg6Ogrbixs3bii5/8bFxQUTJkwQSW+DwTAMo4a3oW/FxHWX6y5YbLkY7cu2V0oSHlWieeDAAbFTe5YsWYQH+ocPH5SSf9i3bx9q166Njh07ip3eGYZh1EBzMWecnIGl55ZisNlgdPm5i1KiDVSJ5uLFi4VokvePsbEx/P39lZJ/0DsvkhslGad9DTlRhoaGikSPyRZYbaK/YShfy4ljjr9EGMrXcpIx5ri4PkI/hWLJ2SViTfmgaoMwvPpwJNMlM3huTFJMYqbnRCVGFr5XrlzBgAEDcPDgwW9sdLdv346UKVMK8zUnJyd4eHjA1NRUKQWWLFnyxff87du3qn3PKVwSXJl8zylm8mqXyUNcxpgJiptaQOTHLdN7LWPM5HtONt6xFTO9pscLDyz2X4z6Weqjb5G+sbraJ6Yx/7DvOdUuR40ahUGDBola539BL9urVy/hTz506D+L6cPCwkQinJ2dhcMl+aWrwdvbW7yuTH7cet9zuqHIAH1+1Fog33NZYiao9UJuqNRFRParMkAx633PZRFN8j0/e/YszMzMYi1m95vusHe3R9VcVbHWZi1M0pgoJbEDxXzx4kXhnqsmZvI9d3V1jZnvOYlV9+7d0bdvX2ES//+gi5ZqhVEhoSOXSkp673P6UqpJ9LoxeV5CJb2/u0wxU5IxZoqXvhCGyrSa9DHL9l7H5vt84NYB9NjbA+Z5zbHp103Imj6rwfN+NMUkZvpcoqJKNHv06IFGjRqJWsjx48fx4sULkd++fXscPnxYPJ45c6bwRqf+T1J1HgxiGOZ7nHt0Dn339UW+TPkwt/FcZEqbSSnRJqpE097eHj/99BPu3bsn0vv370V+p06dULx4cfGY/NDfvHmD3Llziz7NPHnyiHyGYZiv8Xnug85unYXd7raW24Rwah1Votm5c+d/pXz5Iv9Bqn3mzZtXPK5bty5sbW3RokUL5M+fX+QxDMN8zd3Xd2Gz1QYfwj5gffP1KJKliFKibeToKWcYJlFB/uS0nvxj+EestF6JEtlKKCXah0WTYZh45V3oOzTa1AhnH53FzlY7Ubdg3TjxJ48rWDQZhok3Pn76iIH7B8L7uTfmNJyDyrkrKyXywKLJMEy8QMsj++3rB6drTlhnsw625WyRPJl8EsSiyTBMnBMSHoKJxydi/eX1GFNzDH4t9StSJP92mbUMsGgyDBPnrDi3AnNPz8XIX0ZioNlApEgmp2ASLJoMw8QZtCfmxssbMfjgYNiVs4NDXYd4tduNC1g0GYaJM/bd3IehB4eiefHmmGSROPbXZdFkGCbW0UX8XHh0Ae13tkeZ7GXg1NIpQc3QYhMWTYZhYp3T90/jtx2/oXzO8lhjs0baQR9DsGgyDBOrBIUEwdbFFqHhodjVehcKmBRQShIHLJoMw8Qafi/9UGttLbF5sEcHD+TIkEMpSTywaDIMEytQzbKPex/4vvDF6marUTZ7WaUkccGiyTDMD/P8/XO0cW6Da8+uYV+HfaiRt4bY8DcxwqLJMMwP8T7sPUYcGoG9fnsxu+Fs1ClQRylJnKgSTTIYunr1Knx8fMRGw4YgMy7y1KDznj9/ruQyDJMYob0wHU86wtnHWQhmh3IdpFxPrgZV/93UqVPh7u6OTZs2CRfJr/1/CCqbNm0aduzYga5du+Lp06dKCcMwiYmQTyGY6jkVs71m43fz39G/Wn+lJHGjSjSXLl0qnCgnTpwoap3Xrl1TSv6BRNXBwQGTJ09G4cKFsWzZMqWEYZjEAu1YtPfOXsw5PQftyrbD8F+GS7Un5o8Qo3r0w4cPhYl6wYIFlZx/IP/mDBkyiMfkWEk2n1EhG01qwlMiK196HbIwVZPI2C0mz0uopDeclylmSjLGTPEShsq0mmS7PkI/hWL9pfVY/XC1WE++oNECJNMlM3iu1hK9z4byv5f015Qe1b7nRNu2bdGyZUuRvob8gqhpnjFjRuzevRvz58/HkSNHlFLA0dERkyZFrkGlgEaPHi18iNVAIcs2Mscxxx90kcviea5HppgvBF3AzNszUdSoKEYVGgWjFPJswBGTa5oqia9evfrie65KNB8/foyRI0eiYsWKwvucPMy/xsbGBqtWrUK2bNkwa9YsBAQEiGa9HqppUiJIXDNnzowmTZqI4+hC3QLFihUTvukyQG/xlStXUKpUKYPvmRahmC9cuIDy5csL72dZoBvxiRMnULt2bWlEiL4Pp06dgrm5ueZj9rzriU5unVAiawn0z9MfjWs2lubGSu8zXdNVqlRRFTMNbLu4uHwRTVWf0ODBg8UfpJrm69evvwwEjRgxAl5eXuJxkSJFhGjSMQ0K9ezZU+TroS9g2rRpRSIBoYuEzNjVpJg8J6ETfUiG8rWcKGbZ3mu96Bgq03KS4fo49+Qc2rm0Q66MubDCagVMUpkYPE/LKSbv89c3MlWiSf2Vhw8fFkLYvXt3XLx4UeRTjY9enBg+fLgQ1IULF+KPP/5AhQoVRD7DMPJy5/UdYVVhnNpYuEfmzphbKUl6qBJNNze3f6Vq1aqJfBotr1q1qnicM2dOTJ8+HVu2bIG1tbXIYxhGXm4H3obVZivhIunaxlVs9ZaUUSWaDMMkLWh5ZG/33ngc/BjzG89HqeyllJKkC4smwzAGoS3e7Hfb4/LTy9j22zY0KNRAKUnasGgyDPMNtJ6capgHbx3ErIaz0LBwQ1UjzokZFk2GYf5F+OdwYbfr7ueOafWmoXWp1koJQ7BoMgzzBZqfO+boGGG3O6H2BLGePFUKOeYWxxcsmgzDfGHpuaVYfHYx+lbpix6VeiSZ9eRqYNFkGEaw7do2sS9mx/Id4VjfERlSR+4hwfwbFk2GYbDnxh50290NjYo0gkMdB6RNmVYpYb6GRZNhkjhXnlxBn319UCVXFSy2XIzM6TIrJYwhWDQZJomii/i5+Pgiaq6tiTwZ88CljQtyZsiplDL/BYsmwyRR7r2+h+57usMknQmWN13ONcxowqLJMEmQF+9foMnmJngW/Aynu51GuRzllBLm/8GiyTBJjCfvnsDOxU6sK19jswY/Gf+klDDRgUWTYZIQNHm9j3sfHLl1BDtb7+T15DGARZNhkgivP75Gz709cfT2Uaxqtgq18tdSShg1sGgyTBJh5qmZWHtpLSZaTET7su2VXEYtqkTz1q1bOHjwII4dOybcJL/m5cuXwktDn8iQiGGYhOXjp4+YdWoW5v89H2NrjsXAagORMrk8vk9aQ5VoklieP38ew4YNw5s3b5Tcf/Dx8cGiRYvEY/LV4K2kGCbhWXtxLcYdG4cuFbpE+pPz9/KHUCWa3bp1E5a738PY2Bj58+cX3kA5cuRQchmGiW8+6z7jYMBB/H7kdzQt2hSzG86GUSp57Ha1Sqz2aWbKlElY65LP+ZAhQ3Do0CGl5B/IRpMM2iiRm2VUU/boJHq+LKb6UZOMMdNIq6F8rScZ447tmOl7sstnF1rtaIW6BetimdUypIj4MXRuTBPFTH/HUJkWE8Uak5jpuxsVVb7neipVqgQPDw9kz55dyfmWv//+GzNnzoSzs7OSE8ncuXMxY8YM8ZiEc+jQocIWWA30T8vkxU3IGHNYWJg0Pu1RoZuxLJ74emI75oCgAEzwnwDjNMaYXnw6MqbMqJTEHjJeHzGJ+cGDB3j27NkX3/M4E81Lly5h7Nix2Lt3r5ITiV69ie3bt8PExASWlpbiODpQuN7e3qJGK8sXg2K+fPkySpcuLc1FRjFT/3X58uWl+mLQzenEiROwsLD4xq9aq1DMp06dgrm5eazEfPr+adi52gmbXfL2iYv15BQzVYyqV68uzftMgnnhwgVRSVMT840bN8TAtl40Vf23jx49El9+qiGScD158gQ7d+5E3759RfmSJUvg6ekpBoQmT56M2rVri/yokD86iR0lqnlR8GoSPZ86sg2VaTlxzPGXCEP5Wk6xFfPDdw9hv88eQaFBwp88V8ZcBs+LjUTXB30fDZVpMem1IyYxR0WVaJ45cwZr1qxBgwYN4OrqKmoiuXLlErURolSpUjhw4AA2bNiA1q1bfxFThmHinntv7qGTSyeEfgrFvvb7UDxrcaWEiU1UiWbz5s0xf/78L8nKykpUz+3t7UU5NYkcHBzg6OiItm3bwsiIR+oYJj6gDTg6unTEtWfXsMJ6BarkVjdOwEQfVaLJMIz2eBf6TthUkGDOazwPFgUslBImLmDRZBiJIX9yWk/uet0VCy0Xol2ZdkoJE1ewaDKMpITrwjHt5DS4+LpgaI2haFWqlRjoYOIWFk2GkRBa7TPVcyoWnVmEcbXHYViNYbyePJ5g0WQYySDBXH5uOSYcm4AOZTtgaPWhSJMijVLKxDUsmgwjGbt8d2HinxNhW84Wk+tMRuoUcq1+kh0WTYaRiEMBh9B6R2vUyFsD65uvR5Z0WZQSJr5g0WQYSTh1/5QYKf8l3y+Y03AOD/okECyaDCMB/q/80XJ7S2Gz69bWDQUzF1RKmPiGRZNhNM6NFzfwq9OvMElrgjXN1nCTPIFh0WQYDfM25C267u4qlklu/nUz+5NrABZNhtEoz4KfwXqrNW4F3oJTSyf8/NPP3I+pAVg0GUaD0H6mQw8MxZmHZ7CwyUIxWs5oAxZNhtEY5B5pv8ceO313Yn2L9WhZqiVSJE+hlDIJDYsmw2iIsPAwOJxwwOqLqzHJYhKal2iulDBagUWTYTTE+svrxZry0eajhd1uquTyeTQldlSJJvn+0M7tmzdvxvv375Xcf0O7uy9evFh4agQHByu5DMN8j7DPYVhxfgX67euHvlX74o+6fygljNZQJZpkSkSueXPmzMG7d++U3H8g17Zhw4YhX758wnht3bp1SgnDMN/D67EXRh0ZhfqF6mNavWlInowbgVpF1SfTtWtX9OrVSzn6lmnTpqFFixawtrbGoEGDRG3za8hDmFzhKOk9hdUmGlk0lK/VRPHqk6FyrSZZY9ZfZzKkT+GfcPj2Ycy+Mxs189XE9pbbYZTSyOC5Wksyvc/6FJPrWX9N6YlVC9/KlStj0qRJwjvo6dOnaNy4sbD5jGq1S8375cuXi8cvX75Ejx49YGZmJo6jC7lhpk2bVqo5a9SdkS5dOqlipu4V8nmSbW5gUFAQMmaMfZ/vuMAv2A+TfCbBSGeEyaUn46f0Pykl2oZkg66PDBkyKDnah2Km72H69OmVnOhx//593Lt3L258z6MjmlTDpCY+4ezsjCxZsqBJkybiOLqQfXDRokWl8j2/cuWKcOuUyfecumPIaZSslmWBWi/ke0720V9br2qNgFcBsNluIzYPnlRkEqwtrDUfsx7yPT979qyo8MhyU6WYL168KHRKTcx+fn7CfTdGvuf/j2rVqok/QFAt0tTU9BthI9EgpaeUJk0a4UFMX0o1iS4sQ/laTrLGHJPPJyGT3tvaUJmW0s3Am2izq43ou9xgswGmqU0NnqflJMP7/HWKScx0TUVFlWjeuHFD+JpT8+fYsWO4efMmtm/f/sXCd/To0UKR9+7dKyx+qX+TYZh/ExwajAH7B+D269tYY7OG15NLhirRpCa3j48P+vTpg0ePHuH58+eiyUnNcSJPnjyYOXMm7t69K5rmnTt3FvkMw0Ty+O1jtNzRUuxctKv1LpjlUdefzyQ8qkSzVq1aGDx48JdUo0YNlClTBjY2NsoZQNWqVdG3b19Ry1Tb4cowiZnQ8FAMPzQc+/33Y3r96ahXqJ5SwsiEHL3ODCM5wWHBGHlopBDM5U2Xo22ZtkoJIxssmgwTx3z6/AkTj0/EknNLMMp8FLpX7C7NiDPzLSyaDBOHhOvCxfLIVRdWoU+VPuhfrT+v9pEc/vQYJo6gua5Lzy7FqMOj0KVCF9GPyf7k8sOiyTBxxG6/3aJZXrdgXYyrPY79yRMJLJoMEweQP3kf9z6onb82VjVbhcxpMysljOywaDJMLEMWFe13tUf+TPmxyHIRshplVUqYxACLJsPEIgGBAei5pyfyZMyD1c1W4ydjOTbgYKIPiybDxBKP3j6C2UozBIUGYU+7PSiZraRSwiQmWDQZJhYgX/Iubl3EJicrrFcgd8bcSgmT2GDRZJgf5H3YezTf1hznHp3DAdsDYrQ8WcQPkzhh0WSYHyAoJAi99/bGpSeXML/xfJTPWZ4FM5HDoskwMYQmr/9+5Hc4+zpjWdNlaFOmDQtmEoBFk2FiwMdPHzH++HixPJL8yW3L2bLdbhKBRZNhYgCJ5dzTczHIbBB6V+6t5DJJAVWiSf4+tPkwGQ0ZsvClvDt37nxJHz9+VEoYJnEQ/jkcTt5OGHJgCGzL2sKxviPSp+Z9Y5MSqkRz9erVGDdunPA97927t3B2iwpZXXTo0AGbN2/Gli1bxE7vDJOYcLvhJgZ+WpRogSl1pyi5TFJClWiS98+UKVOEaJKzGwnj15DT28iRIzFq1Cjkz59fyWUY+fF/6S/mYhYzLYaNLTbC1MhUKWGSEtEWTTJTo9FCY2NjsYFq9erVhT1vVDJnzowXL16gf//+sLOzw7Vr15SSfyCLVbLwpUTCa8ic/XuJnk9xGCrTcuKY4y8RhvJjmuiaO3n3JGquq4nyOcpjR8sdwnbX0LkxTbEdc3wkuj7ovTFUpsWk146YxByVaPueP378GL169cK2bduQLl06rFy5UjhSRq1tUp8n/QESVXd3dxw9ehQLFy5USiOZO3cuZsyYIR5/+PABQ4cORZUqVcRxdCGxJWtNmZAxZvo8ZfFpjwrdkGPTE//tp7cYcX0EAj8GYk6pOchllEspiT1iO+b4QMbrIyYxP3jwAM+ePfviex5t0aQvvbW1tRBJqlGSXS/98cmTJytn/JvTp09jwYIF3zTh6XUocGLHjh3itSwtLcVxdKBwvb29UaxYMWkuMor58uXLKF26tDQXGcV84cIFlCtXTqovBl1fJ06cgIWFhVjS+KP4v/JHm51thCnazlY7RdM8tqGYT506BXNz81iJOT6gmM+cOQMzMzNpYibduXjxouhCVBOzn58fXFxcvohmtJ9JtaRcuXJh586d4gMm//OOHTuKwZ9Vq1aJc9atWyea5PRHqIZJTfivodehmiolEj0yYleT6Pn0Dxsq03KSMWZqMRjK13qKrbhfh75Gv/39hHDS5PUS2UsYPC82kozvNcVM30dDZVpMFGtMYv5aYFXdImjk3MvLC9OmTcPUqVNRpEgRBAcHi/5OgqYYUQ2UmtwkmN26dRP5DCMb1BTv695XLI90aeuCWvlr8WofRqBKNAsUKCCmHe3ZsweNGzcWeTTFaMiQIeIx9XlSGaV+/frByMhI5DOMTLz5+AYDPQbCw99DrCdvUKiBUsIwKkWTYRI7YeFhmOU1S6wnH197PNqXba+UMEwkLJoMo0DrySefmIwFfy/AhNoTMMQssgXFMFFh0WQYhfWX1mPGXzPQrkw7DK0+VAwaMMzXsGgySZ7Pus/YdGUTxh4di84VOmNOozli8jrDGIJFk0nyuF53Ra+9vVCrQC3MajALRql4AJP5b1g0mSTN6funMfTgUFTOVRmLmiyCcRpjpYRhDMOiySRZTj84DRsnG+FP7tTKie12mWjBoskkSW6+vIne7r1hnNoYC5ssRI70OZQShvk+LJpMkuPem3tot7OdmGK0u91ulM1RVilhmP8PiyaTpHgW/Ax2Lna4H3QfS62WolS2UkoJw0QPFk0myRAcGoz+Hv1x/fl1rLReKdaTM4xaWDSZJEHIpxBRw9zrtxfLrJehWfFmSJ6ML39GPXzVMIkemrxOdrsHAw7Coa4DrIpaKSUMox4WTSbRM+7oOMw7PQ/T6k3DgKoDkDqFXDukM9qCRZNJtFANc/GZxZh5aib6VOmD7hW7I0XyFEopw8QMFk0m0eJ23Q2/H/1drCf/o84fSJcqnVLCMDFHlWjSLu3nz5/HX3/99Z+e5rdu3YKnp6fw8dF7ATFMfEI1TBrwabWjFRoWbogFTRYgQ+oMSinD/BiqRHPx4sXCB+j48ePo3r073r59q5REcuPGDQwcOFAYcjk4OODw4cNKCcPEH96vvMXUIrM8ZpjXaB7SpkyrlDDMjxNt0SR3wj///FP4BI0ZMwZZsmTBxo0bldJIxo8fLxwrSTgprV+/Xin5B3odvZcwPU4KSf9/y5hkip12Xb/27Bom+k9EtvTZcMjuEHIZ5zJ4rtaSHkNlWk2yxUspJjF/TbQtfAMDA2FnZwcnJyekT58eixYtEjXKNWvWKGdAuFWSLe8vv/wimumdOnUSTfWo7N27F25ubuJxQEAAWrRogZo1a4rj6EDhUiyZMmUSTnEyQDG/fPlS3GhksTulmF+8eAFTU1NNx0xN8Tsf7sA32Be+Qb44ce8EdKE6TKs4DWWylVHO0jZUgaDurpw5c0qz8THFTF7gOXLkkCpmuqazZcumKuY7d+7Ax8dHve/5kydP0LNnT2zbtk3Y765cuVI00zdv3qycAeFhTta+VatWxd27d9GmTRvhfx6VkJAQkQiyA6YvZZMmTcRxdKF/gJwwZfI9v3r1KkqWLCmV7zl5RJPvOVmeaoVwXTjCP4fDP9Af6y6tw8arG/Hq4yukSJZC9FtaF7HGb+l/Q+M6jaW5QZGHOH1PatSoIVXM586dQ7Vq1aQRTYpZ73uuJmayJKeKnl406csRLSL+oC5C3HQRNSZxPGTIEN0ff/whHuupU6eOLqImKh5funRJ16xZM/H4v9i6davO3d1dOYo+V65c0UUIr3KkfSLucLqIWrkuNDRUydE+FPOZM2cSPOaImqTu6bunukMBh3TTT07Xtd7RWldofiFdikkpdGWXlNXZ7bLTzfGao/O866l7G/JWFxYWpjt06JAuPDxceQXtQzEfO3ZMupgjWpHiOpEFitnLy0t1zNevX9dNmTJFOdLpon1bo6Zw3rx5sWHDBhw5ckTUKMnXnPo1Z82aJc6hPs3ly5fj8uXLWLhwIayseOUFEzOCQoKw9epWNN3SFKWWlEKzrc0w+shoeD/zhn0le/gP8Mdf3f7CapvVGGw2GOb5zHmEnIkXVLUFSBSpb27Xrl1YtmwZfvrpJ9Ekpz4CwsLCAvb29qK/s3z58mjfnu1Pmf9PaHgo/F76wd3PHZP/nIx66+shz5w8GLB/AAI/BKJZsWZYZLkIN/vfxLU+1zDyl5EoYFJA7IWZKrkc3R1M4iHafZpxAfWPZsyYEZaWlkpO9KD+weLFi0vVp3np0iWUKVNGqj5N6rOqUKFCnMV85ekVuPi6YH/AfjwMeoiXH14iTYo0Ym5l8xLN8XPOn5HVKCtM0pmIPsvoQP1W1Ndet25dqfoHT548iVq1aknXD0uDvjL1acakH5amUtL4i75PU45PiJEaXcTP64+v4fPcB+433dF/X38Uml8IVVZWweqLq8U5v5b8Fa5tXHF/yH1sa7kNbcu0RfGsxWFqZBptwWSY+IBFk4kzXn14hV2+u9B7b29YbbFCw40NYb3FGp73PNGqVCs4t3LGftv9OGh7EPMaz0ODwg2QPlV65dkMo01YNJlYIexzmBBJ8t5Zc3ENGm9qjFyzc6GjS0fs9tst5sgNqT4EdwffxaVelzC9wXRYF7cWO6ezAyQjEyyaTIz59PmT6Jdcem4p7Hfbo8nmJqLJPeLQCKRKkQoTak/A9lbbcarrKZzqdkqIZt6MeZVnM4ycsGgy0YYmloeEh4i+ydGHR4t+yQrLK2Cgx0C43nBFocyFhEg+GfYEe9rtweiao2FZ1FKMdMsyWMAw/w8WTea70Gqbo7ePYtapWbDbZYcyS8qg4vKK2OO3R3jszGowC4c7HsbdQXex9betYuQ7ZXLtrCBimNiGRZP5hg9hH+Ds44yRl0aixJISYoL5iMMjcOnJJbE3JfVJnu5+GmubrxVNbhLPjGkyKs9mmMQNi2YShyaW33x1E/tu7sOUE1PECHe2WdnQy70Xnr57Cuui1mI/Sr++fvDu440xNcegRNYSYvUNTyxnkiIsmkkQ2hmIliM6nHBA3fV1xQoc2rB36smpyJQ2E1Y2XSkGb+ZVmScek01EEdMi3C/JMBGwaCYB3nx8IwZv9tzYIwZtSi4uiUorKmHF+RViBNymhA2cWzvj5YiX2NFqB9qVbYdipsVgksaEbW4Z5iv4G5FIeRf6Tnjk9HHvA8stlmi0qZGoTR67c0ys5SZx9LD1wEG7g1jYZCGaFGnCO5wzTDRg0UwEUG2RJpYHvArAhssbxMBN5umZ0WFXB7jdiNzwmaxrqU/ycu/LmNlwpphYXjpbaR7AYRiVsGhKCgkl9UsuO7cMPfb0gOVmS9HkHrh/oFjrPdliMpxaOcGziyf+7Pwnhv8yHIWzFEayiB+GYWIOi6Yk0G7lHz99FH2T446OQ9GFRVFuWTkhkjt8diBfpnzY8tsWPB/+HO7t3cXEcquiVmLCOc+bZJjYg0VTw1CT+/id45jjNQedXDuhwrIKqLS8Enb67kSNPDXgWM8RB2wP4PGQx2IlDq2+YYFkmLiFRVNjULPb9borfnX6VdQmqdlNa7nPPjqLdmXa4ULPCzjT4wzWtVgnmtwWBSx4wwuGiUeiLZqhoaHw8PDAli1b4O3tLTap/ZpDhw4JX3RKzs7OePPmjVLCGIKa3AGBAfDw94DjSUex4YWJowm6unXFw7cPYV3MWmyZdq33Nfj08cEEiwkoma0kTyxnmAQk2qI5fPhwsXsxbfFFnub+/v5KyT/Mnj0bt2/fRr58+YSdryy7lMcnNEhz48UNIZI119ZEnXV10Gp7K2HzkC5lOixtulTsCET9kquarRJ+OCWylUCK5LwRL8NogWiJ5oMHD7B+/XpMmTIFtra2sLa2/sbPXA8ZsJHFb4ECBcTvryHRpW3nKdFjqrGqSTF5TkIlipV2LPd97ou/nv0l1m+XWlwKZZaWwaIzi0RT3LKIpdjo4tmwZ9jZeidsy9qiuGlxmKaL3LHc0Oty+n4iDOVrOckas2zfx6i/1aSoRMsj6NSpU+jSpYvwyiCoGU6OlI6OjuJYD4lqhgwZEBwcDC8vLyxYsAAFCxZUSiOh5j0JMEFe6h07dkT16tXFcXR59+4d0qdPr9llfe/D38Mn2AcXgy7ixtsbeBD0QKzjzp4qOypmrIhyxuWQP1N+5DHOo+l5kkFBQTA2NpZq+SRdzoGBgciSJYuSo30o5tevXwuTQlmgmKn7zcTERMnRPhQzXdOZMmVScqLHvXv3cOvWrS8eQV9Ek8zKSBjpgouKkZERpk6dihEjRsDX11fkHT58GAcPHsSMGTPEsSGoqW5qaorOnTsrOZFQ3yglgvo96ZwmTZqI4+hA4fr4+KBo0aKaMFajfsk3IW9EjfL0w9PY6bMTR+4cEc1wk7QmQhytilihWHgxNK3eVCpjtQsXLqBcuXJSdbNQC4ZaQbVr15bKpIwqGWRSJlPMZ8+eFSZlssQcFhaGixcvokqVKqoqAn5+fnB1df1WNMPDw0UNTjn8Ar34q1evULFiRdGPSSJH3uZEz549xW9D0Dn0xvbt21fJ+RZZ3ShJEKlfkrxuvO57wfeFL66/uC7KquWuJjy4K+SsgJJZS4r5kzQNiN0o4we65tiNMu6hmJO8GyX1RVK1larbURPlURObaoMTJkwQzXIaHTc3NxfKPWDAAJw/f14Iq4ODg7j77N69G0uXLhVvaGJAP7GclilOOj4JhecXRqklpdBvXz8xZzJnhpxY33w9Hg15JIzCxtYai6bFmooVOGT7wDBM4iHat7XVq1eLWgfdXWbNmoWSJUuKuyIJY7Zs2UQzPm/evKLZTjXSVatWiaadrAR+CMSfd/7E3NNz0dmts9itvNiiYth6bSvM8phher3p8OjggTuD7sCljQuaFW+GdKm+HfhiGCZxEa2BoLhCa83zD58+4MitI2LTC9oNiHYKok1682TMg07lO8G2nC1yG+dG6pSpVc2TpLeYm+fxAzfP4wdunidByCTsVuAt7PffL+ZMki937tm5Yedih7tv7ooliXMbzcXV3ldxZ+AdTK4zWewxmT51ep5YzjBJmCQnmtQvOeOvGai9tjYs1lmg5Y6WmOI5RcyJJJH06uYlJpavbrYavSr3Er7cstxJGYaJexK1aL4NeStGtmmZIq3fJifFEotLYMGZBaKmaVXMClt+3YL7g+9jd7vd6FShk/C/yWqUlTe+YBjGIIlONKkf0uOmBwZ4DEDjzY3ReFNjNNvaTOxiXr9QfTi3csb+DvvFIM4SqyViAIfmUzIMw0QHqUWTpgLRKLf/K39svboVLbe3RK7ZuUSTm6YCkRVtj4o9xIYX1/tdF5tfkB9OmexlhFDyhrwMw6hFOtEkJ8X77+9j3eV16LW3l7B2MFtlJixng0KCMKzGMGxruQ3HOx3HOftzYs5k8azFuV+SYZhYQTrRXHJmCZrub4r+B/rD2ccZWdNnxXLr5Xgy9IkwCRtfe7zYUq2oaVF2UmQYJtaRTlVo8KZ/yf5wa+0G/wH+cGvrht9K/sYTyxmGiRekE80CJgXQrUQ31C1QF6ZGpkouwzBM/CCdaFLfJPdPMgyTUHCnH8MwjApYNBmGYVTAoskwDKMCFk2GYRgVsGgyDMOoIEH309y6davwC6pXr56S8/+hcK9fv47ChQtrwiMoOlDM5BVPe4DKtJ/m5cuXxR6gKVPKs3kJ7ZnIfjtxD8VMHlKVK1eWKuYrV67g559/VjUDJyAgQOx3OmbMGHGcoKJJFwpt7qn2TSc3zJo1ayJt2rRKjraht3jfvn1o0KCBVEJPZlJWVlbSxEyQBQu5DNjb20vzZaaYN27cKEwIZYrZyckJ7du3lyZmqqDRNd2qVStVoknfBQsLCzRq1EgcJ6hoxuRP03MGDx4s/IpksTwln+UePXpg3rx5whJXBshor23btli7dq2wZZaF9+/fi93mqWYvS62eYqZKAO2ELkvMZNNNN1RyppWlJULGkXRNu7m5CU80teiFNkFvEfqJ6mrTjzw3oZKMMVOSMW49hsq0mPQYKtNySmox65GjXv0VdFdOkyaNcqR96A0nzxqZvHYoZmqOyNQ0J6jW06FDhxjVJBIKui5at24tTTOXoPe5RYsWUsVM73PTpk3/JYAxIUGb5wzDMLIhZU2TYRgmoWDRZBiGUYHUzfMpU6bg/v37yJEjBzp27CjmbmqZp0+fYsOGDbh16xaKFCmCrl27SjEDwNfXFy4uLnjw4AEcHByQJUsWpURbBAYGYtWqVbhz5w5sbGzQsGFDpUS7eHp6wsPDQ8wKGTFihBTXA02PIv9wIyMj0RdL8x61zqZNm/D333+LPnpra2sxhSimSF3TLFGiBEaNGoV8+fLB1tZWydUuly5dQrp06TB8+HC8fv0aQ4YMUUq0zePHj2FiYiLEiKaaaJXZs2fj5cuX4gY6fvx4PHz4UCnRLvTelitXDs7Ozpp+b6Ny8eJFdOrUCTVq1BC/aSqP1smWLRv69euHZs2aiel/N2/eVEpiANU0ZSdCjHRVqlTRhYeHKznah2KOuOiUIzno0qWL7t69e8qRtqDPvnr16rqAgABxPHPmTN2gQYPEYxmIaHnoIlpNypEcfPz4UVevXj3dlStXlBztE1FZ0Zmbm+u8vLyUHPVIXdOk5XLUJLe0tISjo6NU0x+OHz+O+vXrK0fMj/Lq1Sux4kPfvC1YsKCo2TNxx40bN8QiiNKlSys52oWuD+pGoOuCph1VrVpVKVGPplWGZu63adPmm0T9EwSteyXhpFUrkydPFm9MQkPNLEMxUz5By88oXlrXHVETEnlagPoqDcX95MkT5QxtQ3PwIioB4ktM0DpjWZbZygjdkCZNmoRp06ZJUVmh7iVavUSVFUpHjhxRSmJAZIVTm0Rc+LqQkJBvEuVHJTg4WFepUiXdhQsXlJyE43sxf/78Wbds2TKdjY2NLkLglWdog4hamsG4KWY9Wm6eU5x16tTR+fj4iONx48bpIm4E4rEMyNQ8j7jh68zMzHTnzp2TqktMD3XbTJw4UTlST4qIJ09U9FNz0B2MVnZ8nSifRu9oFI92INm1a5eY5d+7d+8Ev+t9L+YzZ85g2LBhiBAfMahy9epVMQigBQzFTIneV+o037ZtG44ePSoGK2iwhbpFqFwrUJxUu9yxYwdu374tWiBUC9J6bZOuY7p+Dxw4IGKl/yN//vxKqTahNefm5uZiJPratWuiSyRTpkxKqTYhmaPrgq7hv/76CyNHjkTWrFmVUnVIO+WIRuzoA6PNDmgTjGLFimn+g6PRXJq+ExUZ+jVpqhS91/pLhb4k5cuX19xGDRE1YxHn27dvUahQITGrQuvQF5lu/Hry5s0rthDUMtTMjQrd+LNnz64caRMa8acZK7T8ukCBAsiVK5dSoh5eRskwDKMCqUfPGYZh4hsWTYZhGBWwaDIMw6iARZNhGCbaAP8DEcYu/surmLEAAAAASUVORK5CYII=)"
      ],
      "metadata": {
        "id": "Egt1JLhjqu2N"
      }
    },
    {
      "cell_type": "code",
      "source": [
        "funcao_ativacao = nn.PReLU()\n",
        "testar_modelo_svm('/content/drive/MyDrive/Colab Notebooks/DatasetAumentadoArtigo1_3000_cut', funcao_ativacao, 'PReLU')"
      ],
      "metadata": {
        "id": "P3LacHWQne7E"
      },
      "execution_count": null,
      "outputs": []
    },
    {
      "cell_type": "markdown",
      "source": [
        "## ELU"
      ],
      "metadata": {
        "id": "6g0lDglJoExF"
      }
    },
    {
      "cell_type": "markdown",
      "source": [
        "![image.png](data:image/png;base64,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)"
      ],
      "metadata": {
        "id": "5AhlcrvTqpnT"
      }
    },
    {
      "cell_type": "code",
      "source": [
        "funcao_ativacao = nn.ELU()\n",
        "testar_modelo_svm('/content/drive/MyDrive/Colab Notebooks/DatasetAumentadoArtigo1_3000_cut', funcao_ativacao, 'ELU')"
      ],
      "metadata": {
        "id": "CHJSZbRuoGms"
      },
      "execution_count": null,
      "outputs": []
    },
    {
      "cell_type": "markdown",
      "source": [
        "## SELU"
      ],
      "metadata": {
        "id": "wMjRTqCeoItG"
      }
    },
    {
      "cell_type": "markdown",
      "source": [
        "![image.png](data:image/png;base64,iVBORw0KGgoAAAANSUhEUgAAAU0AAAD0CAYAAAAfQnTNAAAAAXNSR0IArs4c6QAAAARnQU1BAACxjwv8YQUAAAAJcEhZcwAADsMAAA7DAcdvqGQAACq0SURBVHhe7d0JXBbl3j7wS5BdBcEN9zVFc18QNbcW9wXXLDU1O1m2H3vbzlu2v5XmPzuWa6lpqSRIpCKampWIgAouKOL24oKirLIvz5/f3eCpXstnTHhm4Pp25oPMDZybh5nruWfmXqpYSoCIiKxip30kIiIrMDSJiHRgaBIR6cDQJCLSgQ+CyGYyMjIQEhKCs2fPwt7eHq1bt8bgwYNx6dIlrF69GoWFhdpXAp6ennjmmWdw+fJlrFy5EnPmzIGTk5NWCsTFxeHw4cMYP348qlSpovYlJSVh1apVeOmll9TnRHcCW5pkEzk5OZg5cybef/99FX5ZWVmYN2+eCsxz584hICAAzZs3v7E1btxYhaGUL1iwAHl5edpP+tWJEycQHByM37YBrly5goULF2qfEd0ZDE2yCWkFxsfHIzIyUrUa3377bezevRtNmzZV5bVr18aMGTNubOPGjVOtUSJbY2iSTUirUVqbFy9e1PYADg4OsLP79ZAsKipCamrqje369etqP5GtMTTJJurVq4fRo0ejX79+6N+/P+bOnYv9+/ffuI95/PhxDB069Mb2r3/963f3OIlshaFJNuHs7Iw333wTW7ZswZNPPonTp0/D398fERERqrxNmzaqrHR75513ULVqVVVGZEsMTbIZCc4OHTpgwoQJ6mn58OHDsWbNGlUm9y9r1qx5Y6tWrZra/2eqV6+uLvd/+yCooKDgd0/Yie4EhibZhDz9TktL0z77ldzHvN3WpLRMz5w587t7n0ePHkWrVq20z4juDPbTJJuQy/FRo0Zh4MCBqjtRVFQU9uzZg9DQUFy9ehWzZ8/G008/rX01VItx6tSpOHTokOrL+cgjj9xoRcpDJbknKl+/fft29XUpKSmq25K0YO+77z71dUR3AkOTbCI/P191Nzpy5Ijq5C6X371798bdd9+NxMRErF+//ncPfuRSXjq3JycnY926depSvJSE5iuvvKJ+TlhYmOos7+joCF9fX3Tr1o1dleiOYmgSEenAe5pERDowNImIdGBoEhHpUGb3NOXHylNQV1dXbQ8RkfHk5uaqWbRKZ8e6lTILTXmS6e7urjovW1sZIdXJzs6Gm5ubtsf4pM7yNNdMbxBmrLOQp+7yNNxMT8SlT+pvx9WbgQSJdOnSc+4ageROjRo1tM9uTc6DkydPqh4bXl5e2t6/VmahKS+6BJ90YJbuItaSbib79u1Dr169THOQSZ2ln6F0cTHLQSajZWJiYtC1a1dTnRinTp1SB7eHh4e2x/hk2roGDRrcclSTkcjAgBYtWug6d21NBkfIkFuZq8DaN1U5D/z8/LB3716rG2plHpoyT6Le0AwPD1d99swUmtLnsGfPnqYKTekoLv0YGZpli6FZPiQ0N2/ejGHDhukKze7du6vQtPaqiw+CiIh0YGgSEenA0CQi0oGhSUSkA0OTiEgHhiYRmZ8FSPw5EcV5xdqOssPQJCJTKy4sxomQE/h2/Le4sPKCtrfsMDSJyLQK8wqxd/5eBE0JQpOBTeD9oLdWUnYYmkRkSkV5RQifH44f3/gRLR5ogRFLR6Cqe9kvvqcrNGWM5scff4zXX38dixYtwpUrV7QSIqLyk3UlC1ue3oKf3/8ZvV7qhTFrx8DBzUErLVu6QlMGw/v4+ODBBx/EhQsX8Oqrr6phSERE5aW4qBjBM4JxYPkBDHxnIPq/0R/2juU3gYuu0JTJHYYMGaKCc/r06cjMzFTjPUvJMHYJUZmJRjZRXFyse7vd77PlZsY6y9/rZvuNvLHO5bMZtc6XD1/GqgGrcOnAJYxeNRrdn+4OS8l/peW3cx7qpXvCDhnYLoEpYSlrVP92Zp+LFy+qVQLlMl5+rEy3FBISoha5spZ8n0ylZaZpqaTO8iYhvyfrXLbkTVkmYzDTNGtmq7McG1Jnmc7OSMdG/rV8nHjtBLIuZaHl6y3h2ckTdvb/eU2l3jLdoYuLi9X1lsl2nnrqKRw+fNjqCTt0h6acaElJSWq51V27dql7m6UzociPksCT9JZZjmrXrq0u6fXOchQREaGmazLLQSYH2IEDB9RsKWaqc2xsLLp06WKq0JSlf2XCWLPMciTnhDQi6tevb5pZjqTOcXFxaN68uSFmOZLL8TM7z2DTw5tQo1ENjFo5CnXa19FK/0MacrIEtCzxrGeWI2n4ycxqVs8tW/IC3bZRo0ZZUlJStM9+ryTxLSUBoj7qUfJLWEoC2VLyAmh7jE/qXNICt5S8WWh7jK/kzc+yf/9+U9VZJCQkWFJTU7XPzOH48eOWzMxM7TNzOHLkiO5zt6zEBcZZ5tWbZ/m8w+eWq8evWix/csiWNLgswcHB6qO15Dzo2LGjJSsrS9tza7qaRXI5vnr1agQFBak1qJs0aWKqGdaJyDykS1HUkihsGL8B3l298VjkY/Bq7VVyfax9gY3oCk2ZZFeWsJBmsL+/P9555x1d9yuJiKwhl+Q/vv0jdvzXDnSe0Rkjl48s1yfkf0VXaLZs2RIll+QYN24cBgwYgOrVq2slRER3Rn5mPkIeC8Hej/ai++zuqtN6tXrGuR9sjqcWRFQpZF/LRsjjIYgLjMO9792Lvq/11UqMg6FJRIaQeSkTK/uuRHxIPPxX+8PvBb9yG+WjB0OTiGzuypErCBgfoC7NpUvRXcPusvkDnz/D0CQimzq7+6wa5ZN9NRsPhz6MtmPaooq9cfsOMzSJyCYsRRbEb47Hpkd+7bQ+7ptxqN22tmFbmKUYmkRU7mTi4P2L9iNochDqdaqHh7c8jHqd62mlxsbQJKJyVZhTiMjPIrHrv3eh8T2NMXLFSEN1KboVhiYRlZvctFyEvRiGna/tRLcnumHs12PhWsvKMd8GwdAkonKRn5WPbS9sw8EVB9HjmR5qLkzHauYbUcjQJKIyd+3kNdWlKP77eAxeOBgD3x4Iu6rmjB+GJhGVqYLsAmwYuwEJoQkYvXI0uj7WFVXszDMd4R8xNImoTFgsFtUH8/P2n6vuRdN+nIZWQ1tppebF0CSiMpEYnoiNkzaiIKcAEzZOQJM+TbQSc2NoEtEdVZRfhJjVMVhz3xo1w/qsmFmo1aaW4TutW4uhSUR3jFySR3wSga1Pb0WLwS3UxBtutSvWROUMTSK6I/Iy8rDjpR3Y+a+daP9we3VJbqZO69ZiaBLR3yZPyKV1GbkoEv1e74f7/uc+Uy3YpwdDk4j+lutJ17Fm0BrEBcVhyKdDcM9r98CphpNWWvEwNInotqWeTsXGhzbiWvw1jFgyAh2mdNBKKi6GJhHdlsuHL2Nxx8W4evwqHtn5CO6edDfsHYyx+FlZYmgSkT4W4FTYKTUssmbzmhgfMP7XeTArCYYmEVlNuhRJH0wZFilPxqfsmILGvRtXmD6Y1mBoEpFVpNN69NJobPvnNjTp26RC9sG0BkOTiG5JhkLueHkHts/ZjvYPtcfYb8bCvbG7Vlq5MDSJ6C/lpueqSYMPLD+ATtM7qT6YFblL0a0wNInoT2UkZmDT1E04tPIQ7nv/Pjww/wE4uBpvLfLyxNAkopvKSclB4NRAnNl5RoVl9ye7V4ouRbfC0CSi35En5NfjruPrB75G5vlM1aWo8/TOleoJ+V9haBLR76QkpODnp39G2uk0TAicgJaDW2olJHSFZkJCAr766issWrQIwcHByM7O1kqIyOxkLfIj645gRc8VsKtjh5kHZqJu+7paKZXSFZpBQUEqKH18fLBs2TJ8+umnqilPROYXuzYWIf8IgdddXui9oDfcm1bOLkW3ois0X3zxRTz++OMYOHAgli5dikOHDqGgoEArJSIzys/Mx5539+D7x7+Hj78Ppu6aCre6la/TurWqlLQUdTcV5VuefvppNGjQAC+//PKNefNkf25uLoqLi9XHOnXqID09Hc7OzqrcGoWFhdi/fz/8/PxMMx+f1PnAgQPo3r27qeocGxuLzp07m2rewzNnzsDT0xPu7uZpBZ08eRLe3t6oVs14E/LKgmehz4UidmUsuj3ZDX1e66P6YMbFxaFZs2a6zl1bKyoqwrZt2zBo0CDY21v3lF8afT179kR4eDhcXV21vX9Nd2jKybZ48WJs3boV69ev/92BcPnyZTz77LM4e/asCs6oqCiEhYXB0dH6BeGlOtevX1c/1ywns9Q5KysLbm5upqqz3GqRA8VMoSlvxlWrVlWbWeTk5KhzwNoTubxkXc5C/IJ4ZB/ORvMZzeE91lsr+bXOTk5OsLMzz7NiOabT0tLg4eFh9TEteSZXzzExMWUXmgsXLlQPhN5//30VEr8lP0rSXj7KwS2VlwCUF99a8ktERESgV69epjmZpc7R0dHo0aOHqeosB0qXLl1MFZqnT5+Gl5eXqVqa8fHx6qrsj+eLLWUlZyFochAu7LuAIf8egnYT2sHe6T+hfuzYMTRv3txULU1pqG3ZsgVDhw61Ouylpenr64u9e/daHZq63kbkqfn8+fMxatQoHD9+XF12SEVLycknLQAHBwe1le6TX0DPdrvfZ8tN3Gy/UbfSoLxZmZE3qbfZjg2j1TklPgUruq9A8pFkTAqZhE6PdIKDi8PvvsZsr7FsUmeht+566foOucfx/PPP4/Dhw/jpp59w5MgR1bIkInNI/CVRzYNp52iHMV+PUbMVkT66QlOavc8999yNzd/f/0aLkoiM7eSWk/iizxeoYlcF/4j+B5oNaKb+Tfrob5sSkanIE/KDKw4ieEYwWgxqgfEbxsPZ3Tz3Ko2GoUlUgckon11zd2HLU1vUcMiJGyfCq7WXVkq3g6FJVEHlZeZh1xu7sH/hfnR8pCMGLxgMBzfeTvu7GJpEFVD2tWxsmrYJ+z/dj35v9MPg/zcYzjV5SX4nMDSJKpjrSdfVGPKzu86i/9z+8H3GF1WdzTMYwOgYmkQVSFJMEr4Z+Q0u7r+IUV+OQs/nesKuKk/zO4mvJlEFIKPwZB7MjQ9uROrpVIxePRptRrVhl6IywNAkMjlLsQUnNp3AqgGr4OzhjKk/TFV9MKlsMDSJzMwCJIQlIGhqEOwd7dVM6/U61tMKqSwwNIlMqiC7AOELwtWwyFbDWuGxyMdQ3bu6VkplhaFJZFI/vfcTfnjlBzVx8MhlI+Hi6aKVUFliaBKZTNaVLNWlKOKTCPR6sRdGrxwNx+rWz1lLfw9Dk8hECnMK1RjyQysP4f6P7kfff/XlE/JyxtAkMolr8dewos8KXIy6iLFfj0W3Wd3Yad0GGJpEJpB8LBnfTvwWGecz4P+VP9r4t9FKqLwxNIkMTPpgnv3xLJZ2W4rCvEI8FvEYWtzfAnb2PHVtha88kYEdWX9EreXj3dkb49aPg0dTD62EbIWhSWRA0sLc98k+BD4UiLod62L6z9NRt31drZRsiaFJZDCFuYX48e0fsfuN3eg0oxNGLh95Y9Ewsj2GJpGB5GflI3h6MH75n1/g94Ifhn8+HNXqVdNKyQgYmkQGkXU5C5uf2IyE0ATc86970Pu/eqvx5GQsDE0iA0g9lYqvh3+NhK0JGLliJPq81Id9MA2KoUlkY1ePX8XGhzYi82Imhi8ZrvpgcuJg4+JfhshWZFq3kkvxtUPXqoc/D256ED5jfPjQx+AYmkQ2IGuRS6d1WfxMQlL6YNbvXl8rJSNjaBKVs6L8IkQujsSGMRvQyK8Rpu2ZhlptammlZHQMTaJyJJ3WoxZHIeyFMNWylHHkNRrU0ErJDBiaROUkJyUHYXPCsPO1negxuwceDH4QjtU4D6bZMDSJyoG0MDc/uRkRCyPQ++XeuPd/7mWXIpPSFZrp6enYuXMn1q1bh8TERG0vEf2V3Iu52DBiA87sPINhnw9D39f6stO6iekKzbNnzyI0NBRLly5FVFSUtpeI/sz1y9cR/kI4kqKSMPrL0eg8vbNWQmalKzQ7duyIDz/8EF26dNH2ENHNyOV44t5ELO6wGOlX0/HwjofVipHstG5+d/QvaLFYkJubi+zsbLWJoqIiXVthYaH6OTcrM+pWWmf5eLNyo25me51lKy4uvul+o23xW+PVKB9nT2f0nNcTNX1q3vTrjLjJcWyW1/mPm97MKT139ahS8g36vqPEnDlz0Lt3b/j7+2t7fnXp0iVMmzYNCQkJqiJyOf/999/DwcFB+wrrSPA6Oztrn5lDXl4enJyctM/MwYx1loPczs5ObUZUXFiMpB1JOPfJOXh28sRdb96FwiqFqFq1qqlG+hQUFJiuzkIaa66urtpntybBOXv2bBw+fNjq77ujoSk/qjS5Jfhq1qyJzMxMXQEo3x8REQE/Pz/Dnhh/JHWOjo5Gjx49THOQyUkRExODrl27murEOH36NDw9PeHhYbwZzOWS/JcPf0H4R+FoObQl7n3/XtRoWAPx8fGoX78+qlUzzxRvx44dQ/PmzU3VeJEA3Lp1K4YMGQJ7e+setMl54Ovri71791odmrpSKScnRwWatChPnjyJ2NhYFRil5OSTVqWjo6PaRGmrQM92u99ny82MdZa/1832G3kzap0tBRaEPhOK3f+9Gx2ndsTYtWPh0dhDlfF1Lr/tds5DvXR9h7Qav/vuOzRt2vRG9yNJaqLKLDctF5uf2ozYNbHo+999MfCdgVoJVUS6QrNOnTp49913b2zPPfccXFxctFKiyifrShbWPLAGR9cdxfDFw1VoOlbnKJ+KTH/blIiUayevYeOkjUhPTMfQRUPRbmI7Lq1bCfAvTHQbEsMT8dV9XyHtbJoaQ95hcgcGZiXBvzKRDvKEXObBDJwcqMaOj/l6DBr0aIAqdpw4uLJgaBJZqbioGAe/OIiA8QHwbOmJydsmo6FvQ62UKguGJpEVZOLgmNUxCPtnGGq3rY0xq8fAo6nx+opS2WNoEt1CXkYedr2+C9ue24YOUzqoe5hudd20UqpsGJpEf0GGRf7wyg8InxeOjo90xKAFg+Dsbq4hvnRnMTSJ/oQ8GZcuRUfWHcH98+5XgWnvwHkwKzuGJtFNFOYVIvDhQBzbeExNHOz7jC+7FJHCo4DoN2SymQv7L2Bxx8VqAmF5Qt5uQjt2KaIbGJpEv3Ex6iK+ffBbtQiarEXe/L7mWgnRrxiaRCWKC4oRFxiHVQNWobp3dTxx+AnU71pfzfZD9FsMTaIS0cuiEfJYCJrc00SN8qlW1zxzX1L5YmhSpVaQU4Ddb+5G6LOhaDW0FSZtngSPJuy0Tn+OoUmVVmFuIbbP2Y69H+6F3xw/DF44+LYmpaXKhUcIVUoycfDXw77GgRUHcP9H9+O+9++DS03ODUu3xtCkSifjfIbqg5l0KAlDPx2KLjO5JDVZj6FJlcrV41exrPsyXIy+iIe2PITOj3aGvSNH+ZD1GJpUafzvz/+rpnWT5Shk4bOGPRqy0zrpxtCkis8CHN1wFOv916vAnLJjCprd2wxgXtJtYGhShSad1g9/fRhbZm/5dR7MNWPU0rpEt4uhSRWWdCn68e0fsXn2ZrQe2RoTNk5AzeY1tVKi28PQpAqpILsAe97dg/D54Wjj30b1wXSt5aqVEt0+hiZVOJmXMvHdY98h8t+Rah1yWY/c0Y1rkdOdwdCkCkUuyYNnBONYwDEMeHsAer/UG1WdqmqlRH8fQ5MqjEsHLmFl/5W4GncVY78Zix5P9eAsRXTHMTSpQkg7k4aACQFqlM/YdWPRdkxbrYTozmJokqnJwmfx38djec/lcPVyxayDs9CoZyP2waQyw9AkU5OJgzdN24QajWqoFmYtn1paCVHZYGiSKUmXooiFEQiaGoSm/Zpi+p7pqNmMfTCp7OkOzdzcXLz77rsYOXIkvvjiCxQWFmolROXDUmzB7rm71XrkXR7tghFLR8DB1UErJSpbukPzk08+wcWLF7FgwQIEBwdj3759WglR2SvMLMT3j36P/f/eryYOHrpoKFy8OA8mlZ8qFlmz1ErFxcVo3bo1AgIC0KlTJ2zcuBGbN29WLU4hPyo/P199XV5eHry8vJCRkQFnZ2dVbg1puUZERMDPz880s2hLnaOjo9Gjh3m6uBQUFCA2NhZdunQxTZ2LCooQMDEAZ3ecxb3v34vOMzqjqovx+2DGx8ejfv36qFbNPOsOHTt2DM2bN9d17tpaUVERQkNDMXjwYNjbWzfdn5wHvr6+CA8Ph6urdSPGdIVmamqqCs1Dhw6pg+Cnn37Ca6+9hj179qjy8+fPw9/fH8ePH1efZ2VlqWB1dNQ3GkN+eWt/aSOQl1DeKFjnsiOX5OcWn0PKzhS0eLUF3Lu4ayXGJ6+zvDGZqc+oGesspAFTtar1b6Ty9c8//zyOHDlSNqEpIdisWTNERkaiSZMm2LlzJz744ANs27ZNlcuPkuSWj3Lv09PTE5mZmXByclLl1ihtafbq1cs0fzAztjSlzjExMaZpaR7bcAybpm5C44caY/hHw+HhZZ6ZiqSl2aBBA7i5uWl7jC8uLk61NPWcu7YmQb9161YMGTLE6qtUyauePXti7969Voemrutf+aO3bNkSZ86cUZ+fPn0aXbt2Vf8WcvJJq1Je6NIXWyovrRk9m/yc2/k+W25S55vtN+omr69Z6lyYVYgf5/6IWq1rwfdFXzXT+s2+zqibvNZmPJ7NVmep7+1kjl66bxq+9dZbWLJkCd577z2EhYXh8ccf10qI7rz8zHwEPRKkOrHL8roOLnxKTralOzQHDhyIDz/8EKNHj8ann36Kxo0bayVEd5bcx5S+mAmbE9Dn1T6cPJgMQXdoStO3UaNGaNu2LerWraua8URlQRY/i/wsEq1Ht0bHKR05NJIMQXdoEpWH7GvZCHksBO6N3VXnda4YSUbB0CTDkSGSW5/aiozEDAx8dyCcPczTV5AqPoYmGU7M6hicCDmBvq/3RZO+TbS9RMbA0CRDSYpJQuhzobh70t3o+WxP2FXlIUrGwiOSDCM5LhkbH9yIep3qof8b/bW9RMbC0CTD2PHSDqSeScWoL0ahRsMa2l4iY2Foks3Jgx+5JE/cm4jxG8ajdtvaWgmR8TA0yaZknoIDyw4gclEkfJ/2RauhrbQSImNiaJLtWIDT209jzzt70GZMG/R5uQ8f/JDh8Qglmzn9w2kEPhSIRn0aYeSykbB3Ygd2Mj6GJtlESkIKtj2/DU4eThj08SA41TDPFGRUuTE0qdylnU1D4JRAFBcVY1LIJC6IRqbC0KRylXUlCxsf2ojUhFQM+3wYavvwSTmZC0OTyk1uWi62zN6CtDNpGLF8BIdIkikxNKlc5Gfl49uJ3+LUtlMYsWwE2oxqw2kFyZQYmlTm8q/nI/SZUJyPOK9WkWw5uKVWQmQ+DE0qU3mZeQgYH4BjG4+peTG7zurKvphkajx6qczkpeepFua5n85h4DsD4TPWB3b2POTI3HgEU5nISs5CwMQAnPjuBEauGIlus7oxMKlC4FFMd1zmxUwETQ3C+X3n8cD8B9BuQjteklOFwSOZ7qirx6+qp+TJx5IxZu0YdJjSgU/JqUJhaNIdc/nIZXw9/GtcO3kN/qv8cdewu3hJThUOj2j622Q4pDwdXz96PVxruWJi0EQ07d9UKyWqWBia9LfFfhWL4GnBcPUqCcyNE9HIr5FWQlTxMDTptl2/fB07Xt6hZl1vPbo1Jn0/CdUbVNdKiSomhibdlryMPGyaugl7P9qL3i/2xoglI+BW200rJaq4GJqkS3FhsZo8eHGnxbh64irGrRuHe167Bw6uDtpXEFVsDE2ymgTmT+/9pJbZdfFwwcTAifAZ56OVElUODE2yiiytGzAhAD+//zPajG6DmZEz4d3Fm30wqdLRFZrR0dGYO3cuHn/8cbWKIFV8RQVFiFkdg29GfINLUZcwfOlwDP5/g9n/kiotXUf++fPnUatWLcTFxWl7qMIqeU+UOTC3z9mOkMdC4OjmiGk/TkPHKR3h4Mb7l1R56QrNUaNGYcaMGfDy8tL2UEVkKbbgaMBRrOy3EkfWHUG/uf0wedtkeDTz0L6CqPKqUnKZres6Ozs7Gw8//DACAwP/z/2s4uJi5OTkoKioCHl5eahXrx7S0tLg7OysfcWtFRYWIjIyEj179jTN/TKp88GDB9GtWzdT1fnw4cPo1KnT7+qcm5qLkJkhOLXlFGq2qImx345Frda1So4U7Qts7MyZM/D09IS7u7u2x/hOnjyJ+vXrw83NPF2y5GqyWbNmus5dW5PcCQsLwwMPPAB7e+uWgy4oKICfnx/Cw8Ph6uqq7f1rvwtNCbz33nsPCQkJ2p7/WLhwIWrXrv2XoZmSkoIFCxbg0qVL6hdYvXo19u7dC0dHR+0rbk2qc+XKFdStW1fbY3xS5+TkZNSpU0fbY3zyBid/L7ndIiQsE0IScOHbC3AodoDPVB/UHVUXdk7GuneZmZkJJycnXceUraWnp6vArFq1qrbH+KSxU716davDxwjkPExMTESjRo2sbrxI42Hy5Mmq0XNboSkkef+wS3FwcFAV+avQFHIyitzcXPWiZ2VlqYPcWvJL7Nu3D71797b6F7c1qXNUVBR8fX1NVedDhw6ha9euSDqQhM2zN+NK7BW0HNJSPeipXr86qtgb73c5deqUuj3k4WGeWwUnTpxAgwYNUK1aNW2P8R09ehQtWrQwXUtzy5YtGDZsGOzsrHuzl7zr0aOHatxZG5r/5ydLOMq7+B83CYPY2Fh89tln6sCVlqdUUCr6W1LZ0q2UfK+erdTNyoy6mbG+6Qnp6kGP3Lsszi/G8CXDVWd198buav7Lm30fN25G3krdrOzPNr10XXvJO7y0TD755BN06NABTZo0ua3/U7KtrMtZKiwjn4vEoS8Pof+b/fHQlofQcWpH2Dua53KMyBZ0haZcYgwYMODG1q5dO6ubwWRbcssl60oWDn9zGMt7LseRtUdQv2d9zDo8C73m9EJ1b060QWQNJl4lkH0tG+HzwrF26FoEPhyIJn2bYPzG8fB5xQc1GtTQvoqIrMHQrKCkr2V+Zj5i18Ti8/afY9fru+BU3Qmzj83G6FWj0bBXQ0M+6CEyOoZmBSOX4ZcPX8buN3Zjud9ybH5iM5oNbKYm15D7lrXa/NrFiIhuD0OzApFlc4OmBGF5j+X4+YOfUbdjXTx59Em1Xo90JXJw4fBHor+LoWli0qpMT0xXl+Drx6zHx/U/RtLBJHSd1RUzI2ZizFdjVPchXoYT3TkMTZOSCYC3PLUFX/b5Et/N/A7p59IxbsM4PLLrEQyaPwjenb1RxY5hSXSnMTRNorigGMlxyapVuWbQGizptASnw06joV9DTNw0EY+GPwoffx+41XFjWBKVIYamweWm5SJqcRS+euArrB28Fpse2aT2yxPwyaGT4b/aH60Gt2KndKJywtA0mILsAqSdTUNCaAICJwdiXr15+OHVH9TKj23HtcXs47PVNG3tJrRTsxAxLInKF0PTAOSBzsWoi9jz9h5sGLcBqwauwrrR65B2Jg0D3hqABzc9iEf3PooH5j8Ar1acy5TIlhia5c0CFOYVqsvuSwcvIWxOGOZ7z8eKnivwy0e/IOVUCjpN64Sn45/GjF9moPd/9VYjeJw9zDPbDFFFxtAsB5Yii1qYLC4oDrvm7sLGSRuxtOtSLOu2DKe3n0brEa0xZNEQTNs1DU/EPoF+r/dTXYWIyHgYmmVEhjEmHUrCD6/9gEVtF+Hfrf+NgHEB2PPWHiQfTUaXf3TB8+efxz+i/6GmZOv2eDd4d/VGVSfzTFRLVBkxNP+mwpxCpCSk4Or+q4heEo2tz27FqgGr8FHtj7Ci1wocDzqOWj611ExC4wPG47lzz+GpE0+hz0t91MxCat5KdhEiMg2Gpk5FeUW4EHkB4R+HY73/enzW/jOs7rcaMa/EYMvsLYj7Ng7uTdwxZOEQzDo0S63gOPabsbj33XvhM8aHl91EJqd7YTVryXIXsi6KLHehd2E1WeRIlruwxVydRflFyEnNQU5KyXYtB9nJ2Wr0TfKxZFw9VvIxLlk97ZZO5G61S7Z6bvC6ywu5nrm4Z9I9qNmspikmZpZp/mW5CzMtBie43EX5MOtyF5s3b1bLXehZWK179+66lruo1KEp63pfi7+mQvHa8ZKPx68iIzEDeZl5yEvPQ256rppezbWWK+p2qIs6HerAu5M3PFt5wsXTBc41ndVTbUsVi+lW0GRolh+GZvlgaN5GaMrDF2kpFuYWqm49cr9RNgnHjPMZ6t6jdOlRH0+mqIC0c7CDo5sjHFwd4ODmoP7t2dJTzRBUr0s9FZJudd3+MlikzgzN8sHQLB8MzT9nutCUMJTLZlm64XrSdTVS5vqlkq3k33IpnZdR0kqUlqJ8lNZiWq76t4SjrLBYo2ENuDdyR41GNdSltASii5cLXL1cVetRNnk4owdDs/wwNMsHQ/PPGSo0i4uKkXw8GeFbw9HYozEyLmQg80KmaiVmni/5WPK53GuUk1ymO1NPnuWjvd2Nf7vUdIFHcw/UbFoTXq291KS78vRawlK+riwwNMsPQ7N8MDT/nKFCUwLxy3u+ROr/psLNq6QFWBKATh5OcPFwUfcO1T1Ed2c4uTupz6Vc9qkWovZvucwubwzN8sPQLB8MzT9nrMvzkprk5eQhYn+EujyX/ovyn/zv1w/avw2GoVl+GJrlg6H558r28bReJeeuzNojl9mll93q3xKecmKb59wmogrKWKFJRGRwDE0iIh0YmkREOjA0iYh0YGgSEelQ5qEpPZoq+lZcXPy7j9y4mXmrbMdxaU5Zq8z6aV6/fh01atTAk08+aXWfKSF/sKSkJHh7e5um/6DU+fLly6rOZiF1Tk5ORt26dbU95pCenq76Djo5OWl7jC81NVX10XRwKP+BF7fr2rVrqi+snnPX1iTKzpw5g2bNmlmdHXIerFu3DvHx8ahZs6a296+VWWjKjz137pwKTj2kM/z48ePx3XffoWpVc8xiLm8QM2bMwDfffGOag0zq/Mwzz2DZsmWmOjEWL14MPz8/dOzYUdtjfB999BHGjBmjOoubgZy7c+fOxezZs1GnTh1tr/HJgJrGjRsjMTFR15uqZI4MPrB6giAJTSMpOZktvXv3thQUFGh7jC8zM9MyePBgU9U5IyPDMmHCBEthYaG2xxwWLFhgiY6O1j4zh7feestS0pLRPjO+ktaX5cUXX7RcunRJ22MOOTk5lpIGgPpYlvggiIhIB/uSZvhc7d+GIE1kuSchlzJmuacpdW7atKnazFJnuSRv1KiRupwxS52Fp6enupRycXHR9hhfrVq1VJ3Nch9Wjge5LG/YsKFpbpEJqXfbtm1x9913656LV48yu6dJRFQR8fKciEgHhiYRkQ6GDc0PPvgA7du3R6tWrTBlyhTVD9LIpNvCm2++qercrl07vP7668jJydFKjW3OnDnqHnLnzp21PcYj8x5K15277roLvr6+iIqK0tUh2RYSEhLg7++v+sKuXLlS22tswcHB6Nu3rzrvRo4cqeYvNbrt27erbmhyDA8YMADR0dFaSdkw7D1N+WPJJMbywOLjjz9W/T1feeUVrdR4srOz1Ylc2rH2+eefx7hx4zBx4kTtK4xL1mSSiXI/+eQTHDx4UNtrLCEhIZg/fz6++OIL1Q/vnXfeUZ2SZUJio5IO4nFxcaruPj4+mDZtmlZiXHIMy2S88iBo27Zt2LFjB5YsWQJHR0ftK4xHBsNIH013d3fExsaq+n755Zdl9uDNsC1NedeoV6+e+gOePn1aPTU1MqmnvEPLE2l56ijhaZaWprxLy1N0I9u3bx+eeOIJNG/eHP369UPt2rVx8eJFrdSYJND79Olj6GD/I5nJX55AyxN/OS6kMWD0Fr3khPRckdCUY6K0sVVWbNbSlHeGoKCgm152P/roo6hevTpWrVql3u3Onz+PTz/91OajQOQSXOp89epVbc9/zJw5Uw2Vk2FZ0rJYsGAB1q5dq7qa2Nrx48cRGhqqffYfEkClSwPs3LkT//znPw3Z0pTX9IUXXsCoUaPU5ZeQY0SG6Hbt2lV9bmQffviharmZoaVZSq70pk+frq7uhgwZou01LlmeY968eaqBJceFjCosq25HNmtpSv8vuW8iQfjHrXSM7uTJk1UzW16Mzz77TK3FY0tSL7mn9ld13r9/P5YvX47AwEBDBKaQMcQ3q7NZ+pVKHaUlL5e7peRN10xjuc1ErpDkDVRugQwaNEjba2zSOl66dKlq1Mi5Jw2cMiMtTaOR4Yjnzp2zpKWlWVJSUiwlLTZLybuHoYcpynDEsLAwS//+/dUwPxnKZZZhlTJ0NTg42NK+fXtLamqqIesdEBBgKWkVq6F9MTExloEDB1pKrlK0UmMqKipSr+ebb75pWbRokSU9PV3tM7KzZ89aRowYYSkJIEvJpbklLy9PKzEuyYqSqz81NFiODX9/fzW0uawYMjTlF3711Vctffr0sfTr189SclljOXHihFZqTHIyd+nSxVJyGWbp1q2b2kpayVqpsT3xxBOWFi1aWFxcXCwlLVBLVFSUVmIcJS0Hy8svv2zx8/NTx8S2bdvUGGkjk5NZXk9vb29Lo0aNLEOHDrWcP39eKzWmZ5991uLo6Gjp1KmTOoZnzZql3lSNbPHixepNVPJi9OjRlh07dpTpscERQUREOrBzOxGRDgxNIiIdGJpERDowNImIdGBoEhFZDfj/x6DiUSGxcFEAAAAASUVORK5CYII=)![image.png]()"
      ],
      "metadata": {
        "id": "aXr7UXLuqejo"
      }
    },
    {
      "cell_type": "code",
      "source": [
        "funcao_ativacao = nn.SELU()\n",
        "testar_modelo_svm('/content/drive/MyDrive/Colab Notebooks/DatasetAumentadoArtigo1_3000_cut', funcao_ativacao, 'SELU')"
      ],
      "metadata": {
        "id": "4nlB3vwboIUu"
      },
      "execution_count": null,
      "outputs": []
    },
    {
      "cell_type": "markdown",
      "source": [
        "## Tanh"
      ],
      "metadata": {
        "id": "TcQqZju6oM1q"
      }
    },
    {
      "cell_type": "markdown",
      "source": [
        "![image.png](data:image/png;base64,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)"
      ],
      "metadata": {
        "id": "vv0uV6OSqaKk"
      }
    },
    {
      "cell_type": "code",
      "source": [
        "funcao_ativacao = nn.Tanh()\n",
        "testar_modelo_svm('/content/drive/MyDrive/Colab Notebooks/DatasetAumentadoArtigo1_3000_cut', funcao_ativacao, 'Tanh')"
      ],
      "metadata": {
        "id": "R4z_CMrZoOe_"
      },
      "execution_count": null,
      "outputs": []
    },
    {
      "cell_type": "markdown",
      "source": [
        "## Sigmoid"
      ],
      "metadata": {
        "id": "R5lfUjsroRiU"
      }
    },
    {
      "cell_type": "markdown",
      "source": [
        "![image.png](data:image/png;base64,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)"
      ],
      "metadata": {
        "id": "cvAAhDtSqU9L"
      }
    },
    {
      "cell_type": "code",
      "source": [
        "funcao_ativacao = nn.Sigmoid()\n",
        "testar_modelo_svm('/content/drive/MyDrive/Colab Notebooks/DatasetAumentadoArtigo1_3000_cut', funcao_ativacao, 'Sigmoid')"
      ],
      "metadata": {
        "id": "pAImYyfMoS22"
      },
      "execution_count": null,
      "outputs": []
    },
    {
      "cell_type": "markdown",
      "source": [
        "## Wavelet Mexican Hat"
      ],
      "metadata": {
        "id": "I22TRWO8m_4Z"
      }
    },
    {
      "cell_type": "markdown",
      "source": [
        "![image.png](data:image/png;base64,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)"
      ],
      "metadata": {
        "id": "QB67csFoqF-d"
      }
    },
    {
      "cell_type": "markdown",
      "source": [
        "Com lr = 0.0001"
      ],
      "metadata": {
        "id": "YWDV_Ppply6U"
      }
    },
    {
      "cell_type": "code",
      "source": [
        "def mexican_hat_wavelet(x, a=1.0, b=1.0):\n",
        "    \"\"\"\n",
        "    x : Tensor de entrada\n",
        "    a : Escala (Stretch)\n",
        "    b : Translação (Shift)\n",
        "    \"\"\"\n",
        "    scaled_x = (x - b) / a\n",
        "    return (1 - scaled_x**2) * torch.exp(-scaled_x**2 / 2)\n",
        "\n",
        "\n",
        "class WaveletActivation(nn.Module):\n",
        "\n",
        "  def __init__(self, scale=1.0, shift=1.0):\n",
        "      super(WaveletActivation, self).__init__()\n",
        "      self.scale = scale\n",
        "      self.shift = shift\n",
        "\n",
        "  def forward(self, x):\n",
        "      return mexican_hat_wavelet(x, a=self.scale, b=self.shift)\n",
        "\n",
        "funcao_ativacao = WaveletActivation(scale=1.0, shift=1.0)\n",
        "testar_modelo_svm('/content/drive/MyDrive/Colab Notebooks/DatasetAumentadoArtigo1_3000_cut', funcao_ativacao, 'MexicanHat')"
      ],
      "metadata": {
        "id": "9JZOjbLilQVf"
      },
      "execution_count": null,
      "outputs": []
    },
    {
      "cell_type": "markdown",
      "source": [
        "Com lr = 0.001"
      ],
      "metadata": {
        "id": "kTcEVsaeofqT"
      }
    },
    {
      "cell_type": "code",
      "source": [
        "def mexican_hat_wavelet(x, a=1.0, b=1.0):\n",
        "    \"\"\"\n",
        "    x : Tensor de entrada\n",
        "    a : Escala (Stretch)\n",
        "    b : Translação (Shift)\n",
        "    \"\"\"\n",
        "    scaled_x = (x - b) / a\n",
        "    return (1 - scaled_x**2) * torch.exp(-scaled_x**2 / 2)\n",
        "\n",
        "\n",
        "class WaveletActivation(nn.Module):\n",
        "\n",
        "  def __init__(self, scale=1.0, shift=1.0):\n",
        "      super(WaveletActivation, self).__init__()\n",
        "      self.scale = scale\n",
        "      self.shift = shift\n",
        "\n",
        "  def forward(self, x):\n",
        "      return mexican_hat_wavelet(x, a=self.scale, b=self.shift)\n",
        "\n",
        "funcao_ativacao = WaveletActivation(scale=1.0, shift=1.0)\n",
        "testar_modelo_svm('/content/drive/MyDrive/Colab Notebooks/DatasetAumentadoArtigo1_3000_cut', funcao_ativacao, 'MexicanHat2')"
      ],
      "metadata": {
        "id": "MHyezVlsojCv"
      },
      "execution_count": null,
      "outputs": []
    }
  ]
}